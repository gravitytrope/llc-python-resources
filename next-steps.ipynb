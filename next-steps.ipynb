{
 "cells": [
  {
   "cell_type": "markdown",
   "metadata": {},
   "source": [
    "# Data Insights with Python for Beginners: Next Steps\n",
    "\n",
    "<i>By Jennifer Walker</i>\n",
    "\n",
    "<i>Please email me --- jenfly (at) gmail (dot) com --- with any questions, comments, or suggestions. I'd love to hear from you!\n",
    "</i>"
   ]
  },
  {
   "cell_type": "markdown",
   "metadata": {},
   "source": [
    "## Learning more Python basics\n",
    "\n",
    "Here are a few resources you can check out, which are either free or have some free content you can sample. Several of them are oriented specifically towards data analysis.\n",
    "\n",
    "* https://www.codecademy.com/learn/learn-python\n",
    "* http://thepythonguru.com/\n",
    "* https://www.datacamp.com/courses/intro-to-python-for-data-science\n",
    "* https://www.dataquest.io/course/python-programming-beginner"
   ]
  },
  {
   "cell_type": "markdown",
   "metadata": {},
   "source": [
    "## Python for data analysis\n",
    "\n",
    "<i>The suggestions below are specifically geared towards folks who are already doing a lot of data analysis in Excel or Google Sheets, and are keen to switch over to Python for these tasks. If you're just learning Python for fun, or as an introduction to coding in general, the approach outlined here is probably not the best for you --- instead, you might want to keep playing around with the PyCharm setup that we used in the workshop, and exploring other resources online to learn more Python basics. And if your ultimate goal with Python is something other type of work, such as web development, the approach I describe here also might not be the best for you, and you'll want to explore some other options. If you're an avid data cruncher, then read on!</i>\n",
    "\n",
    "I always say Python is like a <b>\"choose your own adventure\"</b> because there are many different ways of installing it, setting up your environment for coding (e.g. PyCharm vs. Jupyter notebooks), and when you're writing code there are usually many different ways to accomplish a task. This makes it very flexible and easy to do things exactly the way you want, but it can also be overwhelming when you're just starting out and don't know where to go next!\n",
    "\n",
    "Here I'm going to recommend some options based on what has worked well for me for data analysis, but this certainly isn't the only way to do things. You may find as you explore and experiment with different options, that something else works better for you, so don't feel obligated to do everything the way I've suggested here. "
   ]
  },
  {
   "cell_type": "markdown",
   "metadata": {},
   "source": [
    "### Setting up your computer\n",
    "\n",
    "As we saw in the workshop, Python comes with many handy built-in functions, like `print()`, `type()`, and `int()`. It also comes with some handy <b>built-in libraries</b> that we can use --- <i>in your workshop slides, see the ones titled \"Using a Library\"</i>. A library (also called a \"package\") is a collection of Python code that is grouped together and given a name (e.g. `csv`) and after we import a library (e.g. `import csv`) we can then use all the pieces of code that are inside of it, like functions (e.g. `csv.DictReader()`).\n",
    "\n",
    "But if you're doing some serious data crunching, you're going to need some additional libraries that don't automatically come with the Python that was already on your computer (if you're on a Mac) or which you downloaded from https://www.python.org/ (if you're on Windows). These are called <b>3rd party libraries</b>, and they're free and available for anyone to use. There are many libraries that are useful for data analysis; three of the main ones are `numpy`, `pandas`, and `matplotlib`.\n",
    "\n",
    "<img src=\"numpy.jpeg\" width=\"200px\"> \n",
    "<img src=\"pandas_logo.png\" width=\"300px\"> \n",
    "<img src=\"matplotlib.png\" width=\"250px\">\n",
    "\n",
    "To use 3rd party libraries, you need to install them in a way such that Python can find them. This can be a bit tricky, and there are a few different ways of doing it. Here I will be showing one approach, which I think is the easiest one for folks who want to crunch their data in Python."
   ]
  },
  {
   "cell_type": "markdown",
   "metadata": {},
   "source": [
    "#### Anaconda\n",
    "\n",
    "For data analysis in Python, I recommend installing <b>Anaconda</b>. This program comes with everything you need to get started with data analysis, so that you can dive in and start learning `numpy`, `pandas`, `matplotlib`, etc., without having to worry about the details of how to find, install, and manage all these libraries.  Anaconda is a \"Python distribution\", which means it includes the <b>standard Python</b>, like we used in the workshop, <b>plus some extra stuff</b>: \n",
    "* all the most common 3rd party libraries for data analysis are pre-installed so you don't need to install them yourself, and \n",
    "* it includes a package manager that you can use if you need to install any additional libraries.\n",
    "\n",
    "<img src=\"anaconda.png\" width=\"200px\">\n",
    "\n",
    "You can download Anaconda here: https://www.anaconda.com/download/. You'll need to select either Python 3.6 or Python 2.7 --- here's the first choice in the choose your own adventure! Either one is fine. I recommend Python 3.6 unless you already know that you need Python 2 for some reason. You can always install another Python version later if you need it, and multiple versions can co-exist peacefully without interfering with each other.\n",
    "* Installation instructions for Windows: https://docs.anaconda.com/anaconda/install/windows\n",
    "* Installation instructions for Mac: https://docs.anaconda.com/anaconda/install/mac-os\n",
    "\n",
    "You'll need about <b>3 GB of free disk space</b> to install Anaconda. If disk space is an issue, there is another option here: https://conda.io/miniconda.html. This is a bare bones installation requiring very little disk space, but it is a bit more complicated because you would then need to install whatever libraries you need yourself."
   ]
  },
  {
   "cell_type": "markdown",
   "metadata": {},
   "source": [
    "#### Using Anaconda with PyCharm\n",
    "\n",
    "Since we used PyCharm as our development environment in the workshop, let's see how to configure it to use our newly installed Anaconda version of Python, instead of the default Python that it was using before. To do this, you need to change the <b>project interpreter</b>. The project interpreter is the Python program that PyCharm uses when you execute commands in the console and run scripts. You can set up PyCharm with multiple different interpreters to choose from, corresponding to different versions of Python installed on your computer.\n",
    "\n",
    "<img src=\"logos/pycharm_logo.png\", width=\"100px\">\n",
    "\n",
    "Here is a guide to setting up PyCharm to use Anaconda Python:\n",
    "\n",
    "https://github.com/jenfly/llc-python-resources/blob/master/pycharm-anaconda.ipynb\n",
    "\n",
    "Once you've gone through this process to set up your computer with Anaconda and Pycharm, the great thing is that you'll have <b>all the main data analysis libraries immediately available whenever you're ready to dive into them</b>. You won't need to go searching around for the libraries you need and installing them yourself --- they're already installed and ready for you!"
   ]
  },
  {
   "cell_type": "markdown",
   "metadata": {},
   "source": [
    "### Pandas demo\n",
    "\n",
    "As I've mentioned, one of the main libraries for data analysis is `pandas`. Here I'll show you examples of the cool things you can do with `pandas`. <b>This section is intended only as a demo, rather than as a guide or tutorial</b>, so don't worry about understanding all the code for now. For each bit of code, just check out the description above and the output below, to get a sense of what the code is doing. \n",
    "\n",
    "Hopefully this demo will help you decide whether `pandas` is a library that might be useful to you in your work. As a caveat, there is a significant learning curve to get from Python beginner to `pandas` user, but going through this learning curve is likely to be a worthwhile investment for you if you're in any or all of the following situations:\n",
    "* Working with data that is messy and/or split up into many different files that need to be merged together\n",
    "* Working with large amounts of data and finding that Excel/Sheets is slowing down, freezing, or crashing\n",
    "* Finding yourself doing a lot of repetitive tasks in Excel/Sheets and wanting to automate these tasks\n",
    "* Wanting to create customized graphs beyond the ones available in Excel/Sheets\n",
    "* ... and probably some other situtations that I haven't thought of yet!\n",
    "\n",
    "<i>This demo uses a program called Jupyter notebook to combine text descriptions, code, graphs, and other output into a single \"notebook\". Jupyter notebook comes pre-installed with Anaconda (hurray!). If you want to try it out, you can fire up a notebook by running \"Anaconda Navigator\" (look for it in your list of installed programs) and then selecting \"Jupyter notebook\" from the menu. I'll add links to some Jupyter notebook tutorials, when I've found some good ones.</i>\n",
    "\n",
    "So, without further ado, let's take the data that we used in our workshop, and see how `pandas` can help us analyze it."
   ]
  },
  {
   "cell_type": "markdown",
   "metadata": {},
   "source": [
    "#### Example 1: LLC Chapters"
   ]
  },
  {
   "cell_type": "markdown",
   "metadata": {},
   "source": [
    "First we import `pandas` and create a variable `chapters_data` that stores the data from `'llc-chapters.csv'`. This variable is a type that is available in `pandas`, called a DataFrame. When we display it here in the notebook (by putting the variable name `chapters_data` as the last line in the code blurb below) we can see that it's like a table from a spreadsheet or a .csv file, with data stored in rows and columns."
   ]
  },
  {
   "cell_type": "code",
   "execution_count": 1,
   "metadata": {},
   "outputs": [
    {
     "data": {
      "text/html": [
       "<div>\n",
       "<style scoped>\n",
       "    .dataframe tbody tr th:only-of-type {\n",
       "        vertical-align: middle;\n",
       "    }\n",
       "\n",
       "    .dataframe tbody tr th {\n",
       "        vertical-align: top;\n",
       "    }\n",
       "\n",
       "    .dataframe thead th {\n",
       "        text-align: right;\n",
       "    }\n",
       "</style>\n",
       "<table border=\"1\" class=\"dataframe\">\n",
       "  <thead>\n",
       "    <tr style=\"text-align: right;\">\n",
       "      <th></th>\n",
       "      <th>City</th>\n",
       "      <th>Province</th>\n",
       "      <th>Chapter Lead(s)</th>\n",
       "    </tr>\n",
       "  </thead>\n",
       "  <tbody>\n",
       "    <tr>\n",
       "      <th>0</th>\n",
       "      <td>Vancouver</td>\n",
       "      <td>BC</td>\n",
       "      <td>Meghan</td>\n",
       "    </tr>\n",
       "    <tr>\n",
       "      <th>1</th>\n",
       "      <td>Calgary</td>\n",
       "      <td>AB</td>\n",
       "      <td>Darcie</td>\n",
       "    </tr>\n",
       "    <tr>\n",
       "      <th>2</th>\n",
       "      <td>Edmonton</td>\n",
       "      <td>AB</td>\n",
       "      <td>Bree &amp; Dana</td>\n",
       "    </tr>\n",
       "    <tr>\n",
       "      <th>3</th>\n",
       "      <td>Saskatoon</td>\n",
       "      <td>SK</td>\n",
       "      <td>Brittany &amp; Marli</td>\n",
       "    </tr>\n",
       "    <tr>\n",
       "      <th>4</th>\n",
       "      <td>Winnipeg</td>\n",
       "      <td>MB</td>\n",
       "      <td>Michelle &amp; Jessica</td>\n",
       "    </tr>\n",
       "    <tr>\n",
       "      <th>5</th>\n",
       "      <td>Toronto</td>\n",
       "      <td>ON</td>\n",
       "      <td>Lindsay</td>\n",
       "    </tr>\n",
       "    <tr>\n",
       "      <th>6</th>\n",
       "      <td>Barrie</td>\n",
       "      <td>ON</td>\n",
       "      <td>Christine</td>\n",
       "    </tr>\n",
       "    <tr>\n",
       "      <th>7</th>\n",
       "      <td>Hamilton</td>\n",
       "      <td>ON</td>\n",
       "      <td>Meg &amp; Abena</td>\n",
       "    </tr>\n",
       "    <tr>\n",
       "      <th>8</th>\n",
       "      <td>Halifax</td>\n",
       "      <td>NS</td>\n",
       "      <td>Christopher &amp; MacKenzie</td>\n",
       "    </tr>\n",
       "    <tr>\n",
       "      <th>9</th>\n",
       "      <td>Fredericton</td>\n",
       "      <td>NB</td>\n",
       "      <td>Lisa</td>\n",
       "    </tr>\n",
       "    <tr>\n",
       "      <th>10</th>\n",
       "      <td>London</td>\n",
       "      <td>ON</td>\n",
       "      <td>Kelly &amp; Jennie</td>\n",
       "    </tr>\n",
       "    <tr>\n",
       "      <th>11</th>\n",
       "      <td>Montreal</td>\n",
       "      <td>QC</td>\n",
       "      <td>Erika &amp; Cassie</td>\n",
       "    </tr>\n",
       "    <tr>\n",
       "      <th>12</th>\n",
       "      <td>Ottawa</td>\n",
       "      <td>ON</td>\n",
       "      <td>Jasmine &amp; Cassie</td>\n",
       "    </tr>\n",
       "    <tr>\n",
       "      <th>13</th>\n",
       "      <td>St Johns</td>\n",
       "      <td>NL</td>\n",
       "      <td>Dana</td>\n",
       "    </tr>\n",
       "    <tr>\n",
       "      <th>14</th>\n",
       "      <td>Victoria</td>\n",
       "      <td>BC</td>\n",
       "      <td>Erin &amp; Christina</td>\n",
       "    </tr>\n",
       "    <tr>\n",
       "      <th>15</th>\n",
       "      <td>Waterloo</td>\n",
       "      <td>ON</td>\n",
       "      <td>Amandah</td>\n",
       "    </tr>\n",
       "    <tr>\n",
       "      <th>16</th>\n",
       "      <td>Quebec</td>\n",
       "      <td>QC</td>\n",
       "      <td>Guillaume &amp; Karine</td>\n",
       "    </tr>\n",
       "  </tbody>\n",
       "</table>\n",
       "</div>"
      ],
      "text/plain": [
       "           City Province          Chapter Lead(s)\n",
       "0     Vancouver       BC                   Meghan\n",
       "1       Calgary       AB                   Darcie\n",
       "2      Edmonton       AB              Bree & Dana\n",
       "3     Saskatoon       SK         Brittany & Marli\n",
       "4      Winnipeg       MB       Michelle & Jessica\n",
       "5       Toronto       ON                  Lindsay\n",
       "6        Barrie       ON                Christine\n",
       "7      Hamilton       ON              Meg & Abena\n",
       "8       Halifax       NS  Christopher & MacKenzie\n",
       "9   Fredericton       NB                     Lisa\n",
       "10       London       ON           Kelly & Jennie\n",
       "11     Montreal       QC           Erika & Cassie\n",
       "12       Ottawa       ON         Jasmine & Cassie\n",
       "13     St Johns       NL                     Dana\n",
       "14     Victoria       BC         Erin & Christina\n",
       "15     Waterloo       ON                  Amandah\n",
       "16       Quebec       QC       Guillaume & Karine"
      ]
     },
     "execution_count": 1,
     "metadata": {},
     "output_type": "execute_result"
    }
   ],
   "source": [
    "import pandas\n",
    "\n",
    "chapters_data = pandas.read_csv('data/llc-chapters.csv')\n",
    "chapters_data"
   ]
  },
  {
   "cell_type": "markdown",
   "metadata": {},
   "source": [
    "How big is our table? We can look at its shape to see that there are 17 rows and 3 columns"
   ]
  },
  {
   "cell_type": "code",
   "execution_count": 2,
   "metadata": {},
   "outputs": [
    {
     "name": "stdout",
     "output_type": "stream",
     "text": [
      "There are 17 chapters and 3 columns of data.\n"
     ]
    }
   ],
   "source": [
    "nrows, ncols = chapters_data.shape\n",
    "print('There are ' + str(nrows) + ' chapters and ' + str(ncols) + ' columns of data.')"
   ]
  },
  {
   "cell_type": "markdown",
   "metadata": {},
   "source": [
    "We can look at a single row of our table:"
   ]
  },
  {
   "cell_type": "code",
   "execution_count": 3,
   "metadata": {},
   "outputs": [
    {
     "data": {
      "text/plain": [
       "{'Chapter Lead(s)': 'Meghan', 'City': 'Vancouver', 'Province': 'BC'}"
      ]
     },
     "execution_count": 3,
     "metadata": {},
     "output_type": "execute_result"
    }
   ],
   "source": [
    "first_row = chapters_data.iloc[0].to_dict()\n",
    "first_row"
   ]
  },
  {
   "cell_type": "markdown",
   "metadata": {},
   "source": [
    "And we can look at a single column. The numbers on the left correspond to the row numbers, called the \"index\" (remember that Python indexes start counting from 0)."
   ]
  },
  {
   "cell_type": "code",
   "execution_count": 4,
   "metadata": {},
   "outputs": [
    {
     "data": {
      "text/plain": [
       "0                      Meghan\n",
       "1                      Darcie\n",
       "2                 Bree & Dana\n",
       "3            Brittany & Marli\n",
       "4          Michelle & Jessica\n",
       "5                     Lindsay\n",
       "6                   Christine\n",
       "7                 Meg & Abena\n",
       "8     Christopher & MacKenzie\n",
       "9                        Lisa\n",
       "10             Kelly & Jennie\n",
       "11             Erika & Cassie\n",
       "12           Jasmine & Cassie\n",
       "13                       Dana\n",
       "14           Erin & Christina\n",
       "15                    Amandah\n",
       "16         Guillaume & Karine\n",
       "Name: Chapter Lead(s), dtype: object"
      ]
     },
     "execution_count": 4,
     "metadata": {},
     "output_type": "execute_result"
    }
   ],
   "source": [
    "leaders = chapters_data['Chapter Lead(s)']\n",
    "leaders"
   ]
  },
  {
   "cell_type": "markdown",
   "metadata": {},
   "source": [
    "As we did in exercise 5, we can find which chapters have co-leaders, count them, and display the city names. With `pandas` we can do this with a few lines of code and we don't need any for loops!"
   ]
  },
  {
   "cell_type": "code",
   "execution_count": 5,
   "metadata": {},
   "outputs": [
    {
     "name": "stdout",
     "output_type": "stream",
     "text": [
      "There are 10 chapters with co-leads. These chapters are:\n"
     ]
    },
    {
     "data": {
      "text/plain": [
       "2      Edmonton\n",
       "3     Saskatoon\n",
       "4      Winnipeg\n",
       "7      Hamilton\n",
       "8       Halifax\n",
       "10       London\n",
       "11     Montreal\n",
       "12       Ottawa\n",
       "14     Victoria\n",
       "16       Quebec\n",
       "Name: City, dtype: object"
      ]
     },
     "execution_count": 5,
     "metadata": {},
     "output_type": "execute_result"
    }
   ],
   "source": [
    "coleads = leaders.str.find('&') >= 0\n",
    "n_coleads = coleads.sum()\n",
    "print('There are ' + str(n_coleads) + ' chapters with co-leads. These chapters are:')\n",
    "chapters_data.loc[coleads, 'City']"
   ]
  },
  {
   "cell_type": "markdown",
   "metadata": {},
   "source": [
    "#### Example 2: LLC Events"
   ]
  },
  {
   "cell_type": "markdown",
   "metadata": {},
   "source": [
    "Here we have a much bigger data set (`'llc-workshop-data.csv'`) and we can really start to see the power of `pandas`!\n",
    "\n",
    "First we read the data into a variable `events` and see that it has 6487 rows and 11 columns."
   ]
  },
  {
   "cell_type": "code",
   "execution_count": 6,
   "metadata": {},
   "outputs": [
    {
     "data": {
      "text/plain": [
       "(6487, 11)"
      ]
     },
     "execution_count": 6,
     "metadata": {},
     "output_type": "execute_result"
    }
   ],
   "source": [
    "events = pandas.read_csv('data/llc-workshop-data.csv')\n",
    "events.shape"
   ]
  },
  {
   "cell_type": "markdown",
   "metadata": {},
   "source": [
    "Let's look at the first few rows of our data table:"
   ]
  },
  {
   "cell_type": "code",
   "execution_count": 7,
   "metadata": {},
   "outputs": [
    {
     "data": {
      "text/html": [
       "<div>\n",
       "<style scoped>\n",
       "    .dataframe tbody tr th:only-of-type {\n",
       "        vertical-align: middle;\n",
       "    }\n",
       "\n",
       "    .dataframe tbody tr th {\n",
       "        vertical-align: top;\n",
       "    }\n",
       "\n",
       "    .dataframe thead th {\n",
       "        text-align: right;\n",
       "    }\n",
       "</style>\n",
       "<table border=\"1\" class=\"dataframe\">\n",
       "  <thead>\n",
       "    <tr style=\"text-align: right;\">\n",
       "      <th></th>\n",
       "      <th>Event Name</th>\n",
       "      <th>Event ID</th>\n",
       "      <th>Order #</th>\n",
       "      <th>Order Date</th>\n",
       "      <th>Quantity</th>\n",
       "      <th>Ticket Type</th>\n",
       "      <th>Attendee #</th>\n",
       "      <th>Date Attending</th>\n",
       "      <th>Order Type</th>\n",
       "      <th>Gender</th>\n",
       "      <th>How did you hear about this event?</th>\n",
       "    </tr>\n",
       "  </thead>\n",
       "  <tbody>\n",
       "    <tr>\n",
       "      <th>0</th>\n",
       "      <td>Introduction to HTML &amp; CSS in Toronto</td>\n",
       "      <td>9849231316</td>\n",
       "      <td>236882194</td>\n",
       "      <td>2013-12-16</td>\n",
       "      <td>1</td>\n",
       "      <td>Yes, I'd like to attend!</td>\n",
       "      <td>300683796</td>\n",
       "      <td>2014-01-08</td>\n",
       "      <td>PayPal Completed</td>\n",
       "      <td>Female</td>\n",
       "      <td>NaN</td>\n",
       "    </tr>\n",
       "    <tr>\n",
       "      <th>1</th>\n",
       "      <td>Introduction to HTML &amp; CSS in Toronto</td>\n",
       "      <td>9849231316</td>\n",
       "      <td>236888382</td>\n",
       "      <td>2013-12-16</td>\n",
       "      <td>1</td>\n",
       "      <td>Yes, I'd like to attend!</td>\n",
       "      <td>300691338</td>\n",
       "      <td>2014-01-08</td>\n",
       "      <td>PayPal Completed</td>\n",
       "      <td>Female</td>\n",
       "      <td>NaN</td>\n",
       "    </tr>\n",
       "    <tr>\n",
       "      <th>2</th>\n",
       "      <td>Introduction to HTML &amp; CSS in Toronto</td>\n",
       "      <td>9849231316</td>\n",
       "      <td>236916392</td>\n",
       "      <td>2013-12-16</td>\n",
       "      <td>1</td>\n",
       "      <td>Yes, I'd like to attend!</td>\n",
       "      <td>300726210</td>\n",
       "      <td>2014-01-08</td>\n",
       "      <td>PayPal Completed</td>\n",
       "      <td>Female</td>\n",
       "      <td>NaN</td>\n",
       "    </tr>\n",
       "    <tr>\n",
       "      <th>3</th>\n",
       "      <td>Introduction to HTML &amp; CSS in Toronto</td>\n",
       "      <td>9849231316</td>\n",
       "      <td>237225952</td>\n",
       "      <td>2013-12-18</td>\n",
       "      <td>1</td>\n",
       "      <td>Yes, I'd like to attend!</td>\n",
       "      <td>301102696</td>\n",
       "      <td>2014-01-08</td>\n",
       "      <td>PayPal Completed</td>\n",
       "      <td>Female</td>\n",
       "      <td>NaN</td>\n",
       "    </tr>\n",
       "    <tr>\n",
       "      <th>4</th>\n",
       "      <td>Introduction to HTML &amp; CSS in Toronto</td>\n",
       "      <td>9849231316</td>\n",
       "      <td>238323753</td>\n",
       "      <td>2013-12-25</td>\n",
       "      <td>1</td>\n",
       "      <td>Yes, I'd like to attend!</td>\n",
       "      <td>302451151</td>\n",
       "      <td>2014-01-08</td>\n",
       "      <td>PayPal Completed</td>\n",
       "      <td>Female</td>\n",
       "      <td>NaN</td>\n",
       "    </tr>\n",
       "  </tbody>\n",
       "</table>\n",
       "</div>"
      ],
      "text/plain": [
       "                              Event Name    Event ID    Order #  Order Date  \\\n",
       "0  Introduction to HTML & CSS in Toronto  9849231316  236882194  2013-12-16   \n",
       "1  Introduction to HTML & CSS in Toronto  9849231316  236888382  2013-12-16   \n",
       "2  Introduction to HTML & CSS in Toronto  9849231316  236916392  2013-12-16   \n",
       "3  Introduction to HTML & CSS in Toronto  9849231316  237225952  2013-12-18   \n",
       "4  Introduction to HTML & CSS in Toronto  9849231316  238323753  2013-12-25   \n",
       "\n",
       "   Quantity               Ticket Type  Attendee # Date Attending  \\\n",
       "0         1  Yes, I'd like to attend!   300683796     2014-01-08   \n",
       "1         1  Yes, I'd like to attend!   300691338     2014-01-08   \n",
       "2         1  Yes, I'd like to attend!   300726210     2014-01-08   \n",
       "3         1  Yes, I'd like to attend!   301102696     2014-01-08   \n",
       "4         1  Yes, I'd like to attend!   302451151     2014-01-08   \n",
       "\n",
       "         Order Type  Gender How did you hear about this event?  \n",
       "0  PayPal Completed  Female                                NaN  \n",
       "1  PayPal Completed  Female                                NaN  \n",
       "2  PayPal Completed  Female                                NaN  \n",
       "3  PayPal Completed  Female                                NaN  \n",
       "4  PayPal Completed  Female                                NaN  "
      ]
     },
     "execution_count": 7,
     "metadata": {},
     "output_type": "execute_result"
    }
   ],
   "source": [
    "events.head()"
   ]
  },
  {
   "cell_type": "markdown",
   "metadata": {},
   "source": [
    "We can see that our data encompasses events from Jan 8, 2014 to Dec 13, 2014:"
   ]
  },
  {
   "cell_type": "code",
   "execution_count": 8,
   "metadata": {},
   "outputs": [
    {
     "name": "stdout",
     "output_type": "stream",
     "text": [
      "First event 2014-01-08\n",
      "Last event 2014-12-13\n"
     ]
    }
   ],
   "source": [
    "print('First event ' + events['Date Attending'].min())\n",
    "print('Last event ' + events['Date Attending'].max())"
   ]
  },
  {
   "cell_type": "markdown",
   "metadata": {},
   "source": [
    "Each row corresponds to a participant in an event, so for a single event there are many rows which will all have the same value in the \"Event Name\" column. With a single line of code, we can display all the unique event names and the number of participants! You can scroll through the list to see them all."
   ]
  },
  {
   "cell_type": "code",
   "execution_count": 9,
   "metadata": {
    "scrolled": true
   },
   "outputs": [
    {
     "data": {
      "text/plain": [
       "Intro to HTML & CSS  (Toronto)                                                                               424\n",
       "WordPress for Beginners in Toronto                                                                           219\n",
       "Intro to HTML & CSS in Toronto                                                                               171\n",
       "National Learn to Code Day 2014 Intro to HTML & CSS: Building a Multi-Page Website in Toronto                169\n",
       "Introduction to JavaScript  (Toronto)                                                                        108\n",
       "CSS Fundamentals for Beginners in Toronto                                                                    107\n",
       "Intro to Photoshop  in Toronto                                                                                95\n",
       "Intro to HTML5 & Responsive Design in Toronto                                                                 94\n",
       "Intro to HTML & CSS: Building a One Page Website (Victoria Edition)                                           88\n",
       "National Learn to Code Day 2014 Intro to HTML & CSS: Building a Multi-Page Website (Victoria Edition)         81\n",
       "Intro to HTML & CSS (Edmonton Edition)                                                                        81\n",
       "Girls Learning Code Day: Intro to HTML & CSS in Victoria! (ages 8-13)                                         79\n",
       "Weekday Intro to HTML & CSS: Building a Multi-Page Website in Toronto                                         78\n",
       "WordPress for Beginners  (Toronto)                                                                            76\n",
       "Intro to HTML5 and Responsive Design in Toronto                                                               74\n",
       "Creative Coding and Data Visualization with Processing  (Toronto)                                             66\n",
       "National Learn to Code Day 2014 Intro to HTML & CSS: Building a Multi-Page Website (Vancouver Edition)        65\n",
       "Introduction to Web Design in Toronto                                                                         64\n",
       "Nov 15th: Creative Coding and Data Visualization with Processing in Toronto                                   63\n",
       "Intro to HTML & CSS (Vancouver Edition)                                                                       57\n",
       "Intro to HTML & CSS (Saskatoon Edition)                                                                       57\n",
       "Girls Learning Code Day: Intro to HTML & CSS in Winnipeg! (ages 8-13)                                         54\n",
       "Intro to HTML & CSS (Montreal Edition)                                                                        53\n",
       "WordPress for Beginners (Vancouver Edition)                                                                   52\n",
       "WordPress for Beginners (Ottawa Edition)                                                                      52\n",
       "Intro to HTML & CSS (Kitchener/Waterloo Edition)                                                              51\n",
       "Intro to JavaScript  (Montreal Edition)                                                                       51\n",
       "Intro to JavaScript in Toronto                                                                                51\n",
       "National Learn to Code Day 2014 Intro to HTML & CSS: Building a Multi-Page Website (Montreal Edition)         51\n",
       "National Learn to Code Day 2014 Intro to HTML & CSS: Building a Multi-Page Website (Halifax Edition)          50\n",
       "                                                                                                            ... \n",
       "CSS Fundamentals for Beginners (Edmonton Edition)                                                             14\n",
       "National Learn to Code Day 2014 Kids Learning Code Edition for Teens 13-16 Intro to HTML & CSS in Toronto     14\n",
       "Girls Learning Code Day: Intro to HTML & CSS in Whitehorse! (ages 8-13 & 13-17)                               14\n",
       "Girls Learning Code: Generative Art with Processing                                                           14\n",
       "Girls Learning Code: Intro to Arduino                                                                         14\n",
       "Girls Learning Code (ages 9-12): Introduction to Ruby - Toronto                                               14\n",
       "Girls Learning Code Day: Intro to HTML & CSS for Teens in Edmonton! (ages 13-17)                              13\n",
       "Intro to Web Design with Photoshop (Barrie Edition)                                                           13\n",
       "Intro to Mobile Web/ Responsive Web Design (Calgary Edition)                                                  13\n",
       "Intro to HTML & CSS (Regina Edition)                                                                          12\n",
       "Girls Learning Code (ages 9-12): Storytelling with Multimedia - Toronto                                       12\n",
       "Kids Learning Code (ages 13-16): Sound Design with Reaper and Fmod Studio - Toronto                           11\n",
       "Kids Learning Code Game Design (London Edition)                                                               11\n",
       "Girls Learning Code: Intro to Programming with Ruby For Teens                                                 11\n",
       "Intro to HTML5 & Responsive Design (Waterloo Edition)                                                         10\n",
       "Intro to Web Design with Photoshop (London Edition)                                                           10\n",
       "Kids Learning Code: After School Program                                                                      10\n",
       "Girls Learning Code: CSS with Sublime Text for 9-12 year olds                                                 10\n",
       "Kids Learning Code: Generative Art with Processing for Mother's Day                                            9\n",
       "Girls Learning Code Mother- Daughter HTML & CSS (Saint John Edition)                                           8\n",
       "Kids Learning Code: Intro to Arduino for Father's Day                                                          8\n",
       "Kids Learning Code: Webmaking With HTML & CSS for 6-8 year olds                                                7\n",
       "Girls Learning Code Introduction to HTML & CSS for Teens (Vancouver Edition)                                   6\n",
       "Kids Learning Code: Game Design with Scratch ages 9-12                                                         6\n",
       "Kids Learning Code: Intro to Photo Editing                                                                     6\n",
       "Girls Learning Code: Introduction to HTML & CSS for Teens (Ottawa Edition)                                     5\n",
       "Kids Learning Code: Inventors After-School Program                                                             5\n",
       "National Learn to Code Day: Intro to HTML & CSS in Vancouver! (ages 8-13)                                      1\n",
       "Family Information Night in Toronto                                                                            1\n",
       "Kids Learning Code PA Day: Stop Motion Animation                                                               1\n",
       "Name: Event Name, Length: 183, dtype: int64"
      ]
     },
     "execution_count": 9,
     "metadata": {},
     "output_type": "execute_result"
    }
   ],
   "source": [
    "events['Event Name'].value_counts()"
   ]
  },
  {
   "cell_type": "markdown",
   "metadata": {},
   "source": [
    "Let's find how many people participated in \"National Learn to Code Day\" events. Once again, no loops required!"
   ]
  },
  {
   "cell_type": "code",
   "execution_count": 10,
   "metadata": {},
   "outputs": [
    {
     "name": "stdout",
     "output_type": "stream",
     "text": [
      "799 attended National Learn to Code Day\n"
     ]
    }
   ],
   "source": [
    "national = events['Event Name'].str.find('National Learn to Code Day') >= 0\n",
    "n_national = national.sum()\n",
    "print(str(n_national) + ' attended National Learn to Code Day')"
   ]
  },
  {
   "cell_type": "markdown",
   "metadata": {},
   "source": [
    "And now let's find the totals for \"Kids Learning Code\" plus \"Girls Learning Code\" events, and any youth-oriented \"National Learn to Code Day\" events:"
   ]
  },
  {
   "cell_type": "code",
   "execution_count": 11,
   "metadata": {
    "scrolled": true
   },
   "outputs": [
    {
     "name": "stdout",
     "output_type": "stream",
     "text": [
      "1575 attended Kids Learning Code or Girls Learning Code events\n",
      "71 attended youth-oriented National Learn to Code Day\n"
     ]
    }
   ],
   "source": [
    "kids = events['Event Name'].str.find('Kids Learning Code') >= 0\n",
    "girls = events['Event Name'].str.find('Girls Learning Code') >= 0\n",
    "youth = kids | girls\n",
    "print(str(youth.sum()) + ' attended Kids Learning Code or Girls Learning Code events')\n",
    "\n",
    "kids_national = events.loc[national, 'Event Name'].str.find('Kids Learning Code') >= 0\n",
    "girls_national = events.loc[national, 'Event Name'].str.find('Girls Learning Code') >= 0\n",
    "youth_national = kids_national | girls_national\n",
    "\n",
    "print(str(youth_national.sum()) + ' attended youth-oriented National Learn to Code Day')"
   ]
  },
  {
   "cell_type": "markdown",
   "metadata": {},
   "source": [
    "##### That covers the exercises we did in the workshop. Now let's see how we could use `pandas` to explore the data further."
   ]
  },
  {
   "cell_type": "markdown",
   "metadata": {},
   "source": [
    "When you were viewing the `'llc-workshop-data.csv'` file, you may have noticed there were different categories of participants in the \"Ticket Type\" column. Let's see what are all the different participant categories, and the total number of participants in each:"
   ]
  },
  {
   "cell_type": "code",
   "execution_count": 12,
   "metadata": {
    "scrolled": true
   },
   "outputs": [
    {
     "data": {
      "text/plain": [
       "Yes, I'd like to attend!                                 3671\n",
       "Yes, I'd like to mentor!                                 1155\n",
       "Register a Girl & Parent/Guardian                         522\n",
       "Register a girl                                           261\n",
       "Register to mentor                                        198\n",
       "Register a boy!                                           172\n",
       "Register a girl!                                          150\n",
       "Register a boy                                             90\n",
       "Make a Donation!                                           35\n",
       "Yes, I'd like to register a teen girl!                     34\n",
       "Register a girl (Bring Your Own Laptop)                    20\n",
       "Ladies Learning Code Alumni                                17\n",
       "Yes, I'd like to volunteer!                                15\n",
       "Register a boy! (Bring Your Own Laptop)                    15\n",
       "Register!                                                  14\n",
       "Register a girl (Use Our Laptop)                           10\n",
       "Register a boy (Use Our Laptop)                            10\n",
       "Register to Mentor                                         10\n",
       "Register a Girl + Parent/Guardian                           9\n",
       "Yes I'd like to volunteer!                                  9\n",
       "Yes, I'd like to mentor on Wednesday, July 23!              7\n",
       "Arduino Uno Board only                                      7\n",
       "Register a Girl & Parent/Guardian + Arduino Uno Board       7\n",
       "Yes, I'd like to mentor on Monday, July 21!                 7\n",
       "I'd like to mentor on both Monday and Wednesday             5\n",
       "Register to Volunteer                                       4\n",
       "Volunteer                                                   4\n",
       "Yes, I'd like to mentor on both Monday and Wednesday!       4\n",
       "I'd like to mentor on Wednesday, March 12th                 3\n",
       "Make a donation!                                            3\n",
       "I'd like to mentor on Monday, March 10th                    3\n",
       "Register a boy (Bring Your Own Laptop)                      3\n",
       "Register a boy and purchase a Jade Robot!                   3\n",
       "Register a girl + pay in full!                              2\n",
       "Additional ticket                                           2\n",
       "Additional Adult or Child                                   1\n",
       "Register a boy + pay in full!                               1\n",
       "RSVP for our Family Information Night                       1\n",
       "Register a girl + pay in installments!                      1\n",
       "Register a boy + pay in installments!                       1\n",
       "Register                                                    1\n",
       "Name: Ticket Type, dtype: int64"
      ]
     },
     "execution_count": 12,
     "metadata": {},
     "output_type": "execute_result"
    }
   ],
   "source": [
    "events['Ticket Type'].value_counts()"
   ]
  },
  {
   "cell_type": "markdown",
   "metadata": {},
   "source": [
    "Let's suppose we only want to count National Learn to Code Day participants in the \"Yes I'd like to attend!\" category. Here is that count:"
   ]
  },
  {
   "cell_type": "code",
   "execution_count": 13,
   "metadata": {},
   "outputs": [
    {
     "name": "stdout",
     "output_type": "stream",
     "text": [
      "524 attended National Learn to Code Day with a ticket type: Yes, I'd like to attend!\n"
     ]
    }
   ],
   "source": [
    "ticket = \"Yes, I'd like to attend!\"\n",
    "attend = events['Ticket Type'] == ticket\n",
    "national_attend = national & attend\n",
    "print(str(national_attend.sum()) + ' attended National Learn to Code Day with a ticket type: ' + ticket)"
   ]
  },
  {
   "cell_type": "markdown",
   "metadata": {},
   "source": [
    "What about patterns over time? Let's see how many participants there were each month:"
   ]
  },
  {
   "cell_type": "code",
   "execution_count": 14,
   "metadata": {},
   "outputs": [
    {
     "data": {
      "text/html": [
       "<div>\n",
       "<style scoped>\n",
       "    .dataframe tbody tr th:only-of-type {\n",
       "        vertical-align: middle;\n",
       "    }\n",
       "\n",
       "    .dataframe tbody tr th {\n",
       "        vertical-align: top;\n",
       "    }\n",
       "\n",
       "    .dataframe thead th {\n",
       "        text-align: right;\n",
       "    }\n",
       "</style>\n",
       "<table border=\"1\" class=\"dataframe\">\n",
       "  <thead>\n",
       "    <tr style=\"text-align: right;\">\n",
       "      <th></th>\n",
       "      <th># Participants</th>\n",
       "    </tr>\n",
       "    <tr>\n",
       "      <th>month</th>\n",
       "      <th></th>\n",
       "    </tr>\n",
       "  </thead>\n",
       "  <tbody>\n",
       "    <tr>\n",
       "      <th>1</th>\n",
       "      <td>509</td>\n",
       "    </tr>\n",
       "    <tr>\n",
       "      <th>2</th>\n",
       "      <td>649</td>\n",
       "    </tr>\n",
       "    <tr>\n",
       "      <th>3</th>\n",
       "      <td>505</td>\n",
       "    </tr>\n",
       "    <tr>\n",
       "      <th>4</th>\n",
       "      <td>708</td>\n",
       "    </tr>\n",
       "    <tr>\n",
       "      <th>5</th>\n",
       "      <td>435</td>\n",
       "    </tr>\n",
       "    <tr>\n",
       "      <th>6</th>\n",
       "      <td>425</td>\n",
       "    </tr>\n",
       "    <tr>\n",
       "      <th>7</th>\n",
       "      <td>261</td>\n",
       "    </tr>\n",
       "    <tr>\n",
       "      <th>8</th>\n",
       "      <td>155</td>\n",
       "    </tr>\n",
       "    <tr>\n",
       "      <th>9</th>\n",
       "      <td>981</td>\n",
       "    </tr>\n",
       "    <tr>\n",
       "      <th>10</th>\n",
       "      <td>482</td>\n",
       "    </tr>\n",
       "    <tr>\n",
       "      <th>11</th>\n",
       "      <td>1101</td>\n",
       "    </tr>\n",
       "    <tr>\n",
       "      <th>12</th>\n",
       "      <td>276</td>\n",
       "    </tr>\n",
       "  </tbody>\n",
       "</table>\n",
       "</div>"
      ],
      "text/plain": [
       "       # Participants\n",
       "month                \n",
       "1                 509\n",
       "2                 649\n",
       "3                 505\n",
       "4                 708\n",
       "5                 435\n",
       "6                 425\n",
       "7                 261\n",
       "8                 155\n",
       "9                 981\n",
       "10                482\n",
       "11               1101\n",
       "12                276"
      ]
     },
     "execution_count": 14,
     "metadata": {},
     "output_type": "execute_result"
    }
   ],
   "source": [
    "events['date'] = pandas.to_datetime(events['Date Attending'])\n",
    "events['month'] = events['date'].dt.month\n",
    "monthly = events[['Quantity', 'month']].groupby('month').sum()\n",
    "monthly = monthly.rename(columns = {'Quantity' : '# Participants'})\n",
    "monthly"
   ]
  },
  {
   "cell_type": "markdown",
   "metadata": {},
   "source": [
    "It would be nice to see this data as a graph. We can do this with just a couple of lines of code. The `%matplotlib inline` line is a special command that tells Jupyter notebook to display graphs inline in the notebook."
   ]
  },
  {
   "cell_type": "code",
   "execution_count": 15,
   "metadata": {},
   "outputs": [
    {
     "data": {
      "text/plain": [
       "<matplotlib.axes._subplots.AxesSubplot at 0x20cb1bd2198>"
      ]
     },
     "execution_count": 15,
     "metadata": {},
     "output_type": "execute_result"
    },
    {
     "data": {
      "image/png": "[encoded data removed]",
      "text/plain": [
       "<matplotlib.figure.Figure at 0x20cb19bd0f0>"
      ]
     },
     "metadata": {},
     "output_type": "display_data"
    }
   ],
   "source": [
    "%matplotlib inline\n",
    "\n",
    "monthly.plot.bar(title='Monthly Participants')"
   ]
  },
  {
   "cell_type": "markdown",
   "metadata": {},
   "source": [
    "How about monthly totals for the categories we looked at earlier?"
   ]
  },
  {
   "cell_type": "code",
   "execution_count": 16,
   "metadata": {},
   "outputs": [
    {
     "data": {
      "text/plain": [
       "<matplotlib.axes._subplots.AxesSubplot at 0x20cb1cbe240>"
      ]
     },
     "execution_count": 16,
     "metadata": {},
     "output_type": "execute_result"
    },
    {
     "data": {
      "image/png": "[encoded data removed]",
      "text/plain": [
       "<matplotlib.figure.Figure at 0x20cb1c80dd8>"
      ]
     },
     "metadata": {},
     "output_type": "display_data"
    }
   ],
   "source": [
    "categories = ['National Learn to Code Day', 'Kids Learning Code', 'Girls Learning Code']\n",
    "monthly_cat = pandas.DataFrame(index=range(1, 13), columns=categories)\n",
    "monthly_cat.index.name = 'month'\n",
    "for category in categories:\n",
    "    data = events[events['Event Name'].str.find(category) >= 0]\n",
    "    monthly_cat[category] = data[['Quantity', 'month']].groupby('month').sum()['Quantity']\n",
    "monthly_cat.plot.bar(title='Monthly Participants')"
   ]
  },
  {
   "cell_type": "markdown",
   "metadata": {},
   "source": [
    "How about the number of participants at each event? Here's what that looks like:"
   ]
  },
  {
   "cell_type": "code",
   "execution_count": 17,
   "metadata": {},
   "outputs": [
    {
     "name": "stdout",
     "output_type": "stream",
     "text": [
      "169 attended the biggest event\n",
      "1 attended the smallest event\n",
      "33.1 was the average attendance per event\n"
     ]
    }
   ],
   "source": [
    "att_by_event = events.groupby('Event ID').sum()['Quantity']\n",
    "print(str(att_by_event.max()) + ' attended the biggest event')\n",
    "print(str(att_by_event.min()) + ' attended the smallest event')\n",
    "print(str(round(att_by_event.mean(), 1)) + ' was the average attendance per event')"
   ]
  },
  {
   "cell_type": "markdown",
   "metadata": {},
   "source": [
    "Now let's look at totals by gender. Looking at participants on all the events, we see that they are about 32% female, 6% male, and 62% not listed."
   ]
  },
  {
   "cell_type": "code",
   "execution_count": 18,
   "metadata": {
    "scrolled": true
   },
   "outputs": [
    {
     "data": {
      "text/html": [
       "<div>\n",
       "<style scoped>\n",
       "    .dataframe tbody tr th:only-of-type {\n",
       "        vertical-align: middle;\n",
       "    }\n",
       "\n",
       "    .dataframe tbody tr th {\n",
       "        vertical-align: top;\n",
       "    }\n",
       "\n",
       "    .dataframe thead th {\n",
       "        text-align: right;\n",
       "    }\n",
       "</style>\n",
       "<table border=\"1\" class=\"dataframe\">\n",
       "  <thead>\n",
       "    <tr style=\"text-align: right;\">\n",
       "      <th></th>\n",
       "      <th># Participants</th>\n",
       "      <th>% Participants</th>\n",
       "    </tr>\n",
       "  </thead>\n",
       "  <tbody>\n",
       "    <tr>\n",
       "      <th>Not listed</th>\n",
       "      <td>4024</td>\n",
       "      <td>62.031756</td>\n",
       "    </tr>\n",
       "    <tr>\n",
       "      <th>Female</th>\n",
       "      <td>2100</td>\n",
       "      <td>32.372437</td>\n",
       "    </tr>\n",
       "    <tr>\n",
       "      <th>Male</th>\n",
       "      <td>363</td>\n",
       "      <td>5.595807</td>\n",
       "    </tr>\n",
       "  </tbody>\n",
       "</table>\n",
       "</div>"
      ],
      "text/plain": [
       "            # Participants  % Participants\n",
       "Not listed            4024       62.031756\n",
       "Female                2100       32.372437\n",
       "Male                   363        5.595807"
      ]
     },
     "execution_count": 18,
     "metadata": {},
     "output_type": "execute_result"
    }
   ],
   "source": [
    "genders = events['Gender'].value_counts(dropna=False).to_frame(name='# Participants')\n",
    "genders = genders.set_index(genders.index.fillna('Not listed'))\n",
    "genders['% Participants'] = 100 * genders['# Participants'] / genders['# Participants'].sum()\n",
    "genders"
   ]
  },
  {
   "cell_type": "markdown",
   "metadata": {},
   "source": [
    "And there are many other things we could to do explore this data further. Hopefully this demo gives you an idea of whether `pandas` would be a good tool to use in your own data analysis!"
   ]
  },
  {
   "cell_type": "markdown",
   "metadata": {},
   "source": [
    "### Additional resources\n",
    "\n",
    "Coming soon!"
   ]
  }
 ],
 "metadata": {
  "kernelspec": {
   "display_name": "Python 3",
   "language": "python",
   "name": "python3"
  },
  "language_info": {
   "codemirror_mode": {
    "name": "ipython",
    "version": 3
   },
   "file_extension": ".py",
   "mimetype": "text/x-python",
   "name": "python",
   "nbconvert_exporter": "python",
   "pygments_lexer": "ipython3",
   "version": "3.6.4"
  }
 },
 "nbformat": 4,
 "nbformat_minor": 2
}
