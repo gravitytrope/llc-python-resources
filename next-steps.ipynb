{
 "cells": [
  {
   "cell_type": "markdown",
   "metadata": {},
   "source": [
    "<a id=\"top\"></a>\n",
    "<center>\n",
    "    <h1>Data Insights with Python for Beginners</h1>\n",
    "    <h3>Next steps and additional resources for Ladies Learning Code workshop participants</h3>\n",
    "    <h4>Jennifer Walker |  jenfly (at) gmail (dot) com </h4>\n",
    "</center>\n",
    "\n",
    "<i>Please email me with any questions, comments, or suggestions. I'd love to hear from you!</i>"
   ]
  },
  {
   "cell_type": "markdown",
   "metadata": {},
   "source": [
    "## Table of Contents\n",
    "\n",
    "[0. Introduction](#intro)\n",
    "\n",
    "[1. Learning Python fundamentals](#basics)\n",
    "\n",
    "[2. Python data analysis ecosystem](#pydata)\n",
    "\n",
    "[3. Setting up your computer](#setup)\n",
    "\n",
    "&nbsp;&nbsp;&nbsp;&nbsp;[3.1 Anaconda](#anaconda)\n",
    "\n",
    "&nbsp;&nbsp;&nbsp;&nbsp;[3.2 Using Anaconda with PyCharm](#pycharm)\n",
    "\n",
    "[4. Pandas demo](#pandas)\n",
    "\n",
    "[5. Data visualization demo](#viz)\n",
    "\n",
    "[6. Jupyter notebook](#jupyter)\n",
    "\n",
    "[7. Additional resources](#additional)\n",
    "  "
   ]
  },
  {
   "cell_type": "markdown",
   "metadata": {},
   "source": [
    "<a id=\"intro\"></a>\n",
    "## 0. Introduction\n",
    "\n",
    "This guide is primarily geared towards folks who are already doing a lot of data analysis in Excel or Google Sheets and are considering switching over to Python for these tasks. The objectives are:\n",
    "\n",
    "* Give you an <strong>overview of Python's capabilities in data analysis</strong>, to help you decide if Python is the right tool for you\n",
    "* Help you <strong>set up your computer with everything you need</strong> to continue learning Python in a development environment that you can use from beginner level all the way to Python data wizard\n",
    "\n",
    "If you're just learning Python for fun, or as an introduction to coding in general, you might want to check out the resources listed in Section 1, but for now you probably want to stick with the PyCharm setup that we used in the workshop, rather than installing any new programs. And if your ultimate goal with Python is some other type of usage, such as web development, the approach I suggest in Section 3 also might not be the best for you, and you'll want to explore some other options. If you're an avid data cruncher, then read on!"
   ]
  },
  {
   "cell_type": "markdown",
   "metadata": {},
   "source": [
    "<a id=\"basics\"></a>\n",
    "\n",
    "## 1. Learning Python fundamentals\n",
    "\n",
    "<img src=\"logos/python.png\" width=\"200px\"></img>\n",
    "\n",
    "Here are a few resources you can check out, which are either free or have some free content you can sample. Several of them are oriented specifically towards data analysis. These resources all start at a beginner level and offer a progression to intermediate and advanced levels.\n",
    "\n",
    "* https://www.codecademy.com/learn/learn-python\n",
    "* http://thepythonguru.com/\n",
    "* https://www.datacamp.com/courses/intro-to-python-for-data-science\n",
    "* https://www.dataquest.io/course/python-programming-beginner\n",
    "\n",
    "For data analysis, you'll want to develop a good understanding of Python fundamentals up to about an intermediate level. This would include delving deeper into all the topics we covered in the workshop (e.g. variables, types, `if` statements and logic, `for` loops, dictionaries, libraries, and reading from files) and additional topics such as: lists, tuples, sets, string operations, defining functions, writing to files, creating modules, namespaces and scopes, defining classes, debugging, and error handling. \n",
    "\n",
    "[back to top](#top)"
   ]
  },
  {
   "cell_type": "markdown",
   "metadata": {},
   "source": [
    "<a id=\"pydata\"></a>\n",
    "## 2. Python data analysis ecosystem\n",
    "\n",
    "As we saw in the workshop, Python comes with many handy built-in functions, like `print()`, `type()`, and `int()`. It also comes with some handy <strong>built-in libraries</strong> that we can use&mdash; <i>in your workshop slides, see the ones titled \"Using a Library\"</i>. A library (also called a \"package\") is a collection of Python code that is grouped together and given a name (e.g. `csv`) and after we import a library (e.g. `import csv`) we can then use all the pieces of code that are inside of it, such as functions (e.g. `csv.DictReader()`).\n",
    "\n",
    "But if you're doing some serious data crunching, you're going to need additional libraries that don't automatically come with the Python that was already on your computer (if you're on a Mac) or which you downloaded from https://www.python.org/ (if you're on Windows). These are called <strong>3rd party libraries</strong>, and they're free and available for anyone to use. There are many libraries that are useful for data analysis; three of the main ones are `numpy`, `matplotlib`, and `pandas`.\n",
    "\n",
    "<img src=\"logos/numpy.jpeg\" width=\"200px\"> \n",
    "\n",
    "`numpy` is a numerical library that efficiently performs calculations on <strong>arrays</strong> of data. An array is a collection of variables of the same type (such as integer, float, string, etc.) that are organized into one or more dimensions. A 1-dimensional array is like a single column or row in a spreadsheet. A 2-dimensional array is like a table of rows and columns in a spreadsheet. Pretty much every data-related Python library uses `numpy` behind the scenes&mdash;it's the heart of number crunching in Python.\n",
    "\n",
    "<img src=\"logos/matplotlib.png\" width=\"250px\">\n",
    "\n",
    "`matplotlib` is a data visualization library, for making graphs such as line, bar, and scatter charts, histograms, heatmaps, contour plots, and many others. It gives the user very fine control to customize all aspects of the layout and style of each graph. `matplotlib` is the oldest data visualization library in Python, and very widely used. Many newer visualization libraries use `matplotlib` behind the scenes, and build upon its features to create additional types of plots (e.g. geographic maps, advanced statistical graphs, etc.) or provide convenient sets of pre-defined styles for different aesthetic effects. \n",
    "\n",
    "<img src=\"logos/pandas_logo.png\" width=\"300px\"> \n",
    "\n",
    "`pandas` is a library for working with tabular (spreadsheet-like) data. It combines the number crunching power of `numpy` with the visualization power of `matplotlib` to reproduce pretty much all the spreadsheet functionality of Excel and Google Sheets, plus a whole lot more. Compared to working in spreadsheets, `pandas` makes it much easier to handle messy and missing data, merge data from many different files, filter data to work with many different subsets, quickly summarize data in graphs and pivot tables with just a few lines of code, analyze timeseries data in an intuitive way, and much more.\n",
    "\n",
    "Python combined with 3rd party libraries like these (and many others) creates a powerful, full-featured <strong>ecosystem</strong> for data analysis. These libraries all require a solid understanding of Python fundamentals, so I recommend using some of the resources from [Section 1](#basics), or any others you find helpful, to keep learning and practicing until you feel <strong>comfortable with Python fundamentals, before diving into the larger Python data analysis ecosystem</strong>. However, even if you're just starting out with Python, you can do your future self a favour by setting up your computer with a development environment you can use now as you're starting out and throughout the rest of your journey into the larger ecosystem. In the next section, I'll walk you through the steps for this setup.\n",
    "\n",
    "\n",
    "[back to top](#top)"
   ]
  },
  {
   "cell_type": "markdown",
   "metadata": {},
   "source": [
    "<a id=\"setup\"></a>\n",
    "### 3. Setting up your computer\n",
    "\n",
    "<img src=\"diagrams/computer.png\" width=\"150px\"></img>\n",
    "\n",
    "I always say Python is like a <strong>\"choose your own adventure\"</strong> because there are many different ways of doing everything&mdash;from installing it on your computer, to choosing a program for editing and running code (e.g. PyCharm vs. Jupyter), to choosing which commands and functions you use to accomplish a task. This makes it very flexible and easy to do things exactly the way you want, but it can also be overwhelming when you're just starting out and don't know where to go next!\n",
    "\n",
    "To use the Python data analysis ecosystem, you need to install 3rd party libraries such as `numpy`, `matplotlib`, and `pandas` in such a way that Python can find them. This can be a bit tricky, and there are a few different ways of doing it. Here I will be suggesting one approach, based on what has worked well for me for data analysis, but this certainly isn't the only way to do things. You may find as you explore and experiment with different options, that another approach works better for you, so don't feel obligated to do everything the way I've suggested here.\n",
    "\n",
    "[back to top](#top)"
   ]
  },
  {
   "cell_type": "markdown",
   "metadata": {},
   "source": [
    "<a id=\"anaconda\"></a>\n",
    "#### 3.1 Anaconda\n",
    "\n",
    "For data analysis in Python, I recommend installing <strong>Anaconda</strong>. This program comes with everything you need to get started with data analysis, so that whenever you're ready to dive in and start learning `numpy`, `matplotlib`, `pandas`, etc., you can do so without having to worry about the details of how to find, install, and manage all these libraries.  Anaconda is a \"Python distribution\", which means it includes the official Python language, like we used in the workshop, <strong>plus some extra stuff</strong>: \n",
    "* all the most common 3rd party libraries for data analysis are pre-installed so you don't need to install them yourself, and \n",
    "* it includes a package manager that you can use if you need to install any additional libraries.\n",
    "\n",
    "<img src=\"logos/anaconda.png\" width=\"200px\">\n",
    "\n",
    "You can download Anaconda here: https://www.anaconda.com/download/. You'll need to select either the latest Python 3 version (currently Python 3.6) or Python 2.7&mdash;here's the first choice in the choose your own adventure! Either one is fine. I recommend selecting the latest Python 3 unless you already know that you need Python 2.7 for some reason. You can always install another Python version later if you need it, and multiple versions can co-exist peacefully without interfering with each other.\n",
    "* Installation instructions for Windows: https://docs.anaconda.com/anaconda/install/windows\n",
    "* Installation instructions for Mac: https://docs.anaconda.com/anaconda/install/mac-os\n",
    "\n",
    "You'll need about <strong>3 GB of free disk space</strong> to install Anaconda. If disk space is an issue, there is another option here: https://conda.io/miniconda.html. This is a bare bones installation requiring very little disk space, but it is a bit more complicated because you would then need to install whatever libraries you need yourself.\n",
    "\n",
    "[back to top](#top)"
   ]
  },
  {
   "cell_type": "markdown",
   "metadata": {},
   "source": [
    "<a id=\"pycharm\"></a>\n",
    "#### 3.2 Using Anaconda with PyCharm\n",
    "\n",
    "Since we used PyCharm as our development environment in the workshop, let's see how to configure it to use our newly installed Anaconda version of Python, instead of the default Python that it was using before. To do this, you need to change the <strong>project interpreter</strong>. The project interpreter is the Python program that PyCharm uses when you execute commands in the console and run scripts. You can set up PyCharm with multiple different interpreters to choose from, corresponding to different versions of Python installed on your computer.\n",
    "\n",
    "<img src=\"logos/pycharm_logo.png\" width=\"100px\">\n",
    "\n",
    "Here is a guide to setting up PyCharm to use Anaconda Python:\n",
    "\n",
    "https://jenfly.github.io/llc-python-resources/pycharm-anaconda.html\n",
    "\n",
    "Once you've gone through this process to set up your computer with Anaconda and PyCharm, the great thing is that you'll have <strong>all the main data analysis libraries immediately available whenever you're ready to dive into them</strong>. You won't need to go searching around for the libraries you need and installing them yourself&mdash;they're already installed and ready for you!\n",
    "\n",
    "[back to top](#top)"
   ]
  },
  {
   "cell_type": "markdown",
   "metadata": {},
   "source": [
    "<a id=\"pandas\"></a>\n",
    "### 4. Pandas demo\n",
    "\n",
    "As I've mentioned, one of the main libraries for data analysis is `pandas`. Here I'll show you examples of the cool things you can do with `pandas`. <strong>This section is intended only as a demo, rather than as a lesson or tutorial</strong>, so don't worry about understanding all the code for now. For each bit of code, just check out the description above and the output below, to get a sense of what the code is doing. \n",
    "\n",
    "Hopefully this demo will help you decide whether `pandas` is a library that might be useful to you in your work. As a caveat, there is a significant learning curve to get from Python beginner to `pandas` user, but going through this learning curve is likely to be a worthwhile investment if you're in any or all of the following situations:\n",
    "* Working with data that is messy and/or split up into many different files that need to be merged together\n",
    "* Using long, complicated spreadsheet formulas that are unwieldy and annoying to edit\n",
    "* Working with large amounts of data and finding that Excel/Sheets is slowing down, freezing, or crashing\n",
    "* Finding yourself doing a lot of repetitive spreadsheets tasks and wanting to automate them\n",
    "* Wanting to create customized graphs beyond the ones available in Excel/Sheets\n",
    "* ... and probably some other situtations that I haven't thought of yet!\n",
    "\n",
    "This demo uses a program called Jupyter notebook to combine text descriptions, code, graphs, and other output into a single \"notebook\". Jupyter notebook comes pre-installed with Anaconda&mdash;hurray! For more information on Jupyter notebook, check out [Section 6](#jupyter).\n",
    "\n",
    "So, without further ado, let's take the data that we used in our workshop, and see how `pandas` can help us analyze it.\n",
    "\n",
    "[back to top](#top)"
   ]
  },
  {
   "cell_type": "markdown",
   "metadata": {},
   "source": [
    "#### Example 1: Ladies Learning Code Chapters"
   ]
  },
  {
   "cell_type": "markdown",
   "metadata": {},
   "source": [
    "First we import `pandas` and create a variable `chapters_data` that stores the data from `'llc-chapters.csv'`. This variable is a type that is available in `pandas`, called a DataFrame. When we display it here in the notebook (by putting the variable name `chapters_data` as the last line in the code blurb below) we can see that it's like a table from a spreadsheet or a .csv file, with data stored in rows and columns."
   ]
  },
  {
   "cell_type": "code",
   "execution_count": 1,
   "metadata": {},
   "outputs": [
    {
     "data": {
      "text/html": [
       "<div>\n",
       "<style scoped>\n",
       "    .dataframe tbody tr th:only-of-type {\n",
       "        vertical-align: middle;\n",
       "    }\n",
       "\n",
       "    .dataframe tbody tr th {\n",
       "        vertical-align: top;\n",
       "    }\n",
       "\n",
       "    .dataframe thead th {\n",
       "        text-align: right;\n",
       "    }\n",
       "</style>\n",
       "<table border=\"1\" class=\"dataframe\">\n",
       "  <thead>\n",
       "    <tr style=\"text-align: right;\">\n",
       "      <th></th>\n",
       "      <th>City</th>\n",
       "      <th>Province</th>\n",
       "      <th>Chapter Lead(s)</th>\n",
       "    </tr>\n",
       "  </thead>\n",
       "  <tbody>\n",
       "    <tr>\n",
       "      <th>0</th>\n",
       "      <td>Vancouver</td>\n",
       "      <td>BC</td>\n",
       "      <td>Meghan</td>\n",
       "    </tr>\n",
       "    <tr>\n",
       "      <th>1</th>\n",
       "      <td>Calgary</td>\n",
       "      <td>AB</td>\n",
       "      <td>Darcie</td>\n",
       "    </tr>\n",
       "    <tr>\n",
       "      <th>2</th>\n",
       "      <td>Edmonton</td>\n",
       "      <td>AB</td>\n",
       "      <td>Bree &amp; Dana</td>\n",
       "    </tr>\n",
       "    <tr>\n",
       "      <th>3</th>\n",
       "      <td>Saskatoon</td>\n",
       "      <td>SK</td>\n",
       "      <td>Brittany &amp; Marli</td>\n",
       "    </tr>\n",
       "    <tr>\n",
       "      <th>4</th>\n",
       "      <td>Winnipeg</td>\n",
       "      <td>MB</td>\n",
       "      <td>Michelle &amp; Jessica</td>\n",
       "    </tr>\n",
       "    <tr>\n",
       "      <th>5</th>\n",
       "      <td>Toronto</td>\n",
       "      <td>ON</td>\n",
       "      <td>Lindsay</td>\n",
       "    </tr>\n",
       "    <tr>\n",
       "      <th>6</th>\n",
       "      <td>Barrie</td>\n",
       "      <td>ON</td>\n",
       "      <td>Christine</td>\n",
       "    </tr>\n",
       "    <tr>\n",
       "      <th>7</th>\n",
       "      <td>Hamilton</td>\n",
       "      <td>ON</td>\n",
       "      <td>Meg &amp; Abena</td>\n",
       "    </tr>\n",
       "    <tr>\n",
       "      <th>8</th>\n",
       "      <td>Halifax</td>\n",
       "      <td>NS</td>\n",
       "      <td>Christopher &amp; MacKenzie</td>\n",
       "    </tr>\n",
       "    <tr>\n",
       "      <th>9</th>\n",
       "      <td>Fredericton</td>\n",
       "      <td>NB</td>\n",
       "      <td>Lisa</td>\n",
       "    </tr>\n",
       "    <tr>\n",
       "      <th>10</th>\n",
       "      <td>London</td>\n",
       "      <td>ON</td>\n",
       "      <td>Kelly &amp; Jennie</td>\n",
       "    </tr>\n",
       "    <tr>\n",
       "      <th>11</th>\n",
       "      <td>Montreal</td>\n",
       "      <td>QC</td>\n",
       "      <td>Erika &amp; Cassie</td>\n",
       "    </tr>\n",
       "    <tr>\n",
       "      <th>12</th>\n",
       "      <td>Ottawa</td>\n",
       "      <td>ON</td>\n",
       "      <td>Jasmine &amp; Cassie</td>\n",
       "    </tr>\n",
       "    <tr>\n",
       "      <th>13</th>\n",
       "      <td>St Johns</td>\n",
       "      <td>NL</td>\n",
       "      <td>Dana</td>\n",
       "    </tr>\n",
       "    <tr>\n",
       "      <th>14</th>\n",
       "      <td>Victoria</td>\n",
       "      <td>BC</td>\n",
       "      <td>Erin &amp; Christina</td>\n",
       "    </tr>\n",
       "    <tr>\n",
       "      <th>15</th>\n",
       "      <td>Waterloo</td>\n",
       "      <td>ON</td>\n",
       "      <td>Amandah</td>\n",
       "    </tr>\n",
       "    <tr>\n",
       "      <th>16</th>\n",
       "      <td>Quebec</td>\n",
       "      <td>QC</td>\n",
       "      <td>Guillaume &amp; Karine</td>\n",
       "    </tr>\n",
       "  </tbody>\n",
       "</table>\n",
       "</div>"
      ],
      "text/plain": [
       "           City Province          Chapter Lead(s)\n",
       "0     Vancouver       BC                   Meghan\n",
       "1       Calgary       AB                   Darcie\n",
       "2      Edmonton       AB              Bree & Dana\n",
       "3     Saskatoon       SK         Brittany & Marli\n",
       "4      Winnipeg       MB       Michelle & Jessica\n",
       "5       Toronto       ON                  Lindsay\n",
       "6        Barrie       ON                Christine\n",
       "7      Hamilton       ON              Meg & Abena\n",
       "8       Halifax       NS  Christopher & MacKenzie\n",
       "9   Fredericton       NB                     Lisa\n",
       "10       London       ON           Kelly & Jennie\n",
       "11     Montreal       QC           Erika & Cassie\n",
       "12       Ottawa       ON         Jasmine & Cassie\n",
       "13     St Johns       NL                     Dana\n",
       "14     Victoria       BC         Erin & Christina\n",
       "15     Waterloo       ON                  Amandah\n",
       "16       Quebec       QC       Guillaume & Karine"
      ]
     },
     "execution_count": 1,
     "metadata": {},
     "output_type": "execute_result"
    }
   ],
   "source": [
    "import pandas\n",
    "\n",
    "chapters_data = pandas.read_csv('data/llc-chapters.csv')\n",
    "chapters_data"
   ]
  },
  {
   "cell_type": "markdown",
   "metadata": {},
   "source": [
    "How big is our table? We can look at its shape to see that there are 17 rows and 3 columns"
   ]
  },
  {
   "cell_type": "code",
   "execution_count": 2,
   "metadata": {},
   "outputs": [
    {
     "name": "stdout",
     "output_type": "stream",
     "text": [
      "There are 17 chapters and 3 columns of data.\n"
     ]
    }
   ],
   "source": [
    "nrows, ncols = chapters_data.shape\n",
    "print('There are ' + str(nrows) + ' chapters and ' + str(ncols) + ' columns of data.')"
   ]
  },
  {
   "cell_type": "markdown",
   "metadata": {},
   "source": [
    "We can look at a single row of our table:"
   ]
  },
  {
   "cell_type": "code",
   "execution_count": 3,
   "metadata": {},
   "outputs": [
    {
     "data": {
      "text/plain": [
       "{'Chapter Lead(s)': 'Meghan', 'City': 'Vancouver', 'Province': 'BC'}"
      ]
     },
     "execution_count": 3,
     "metadata": {},
     "output_type": "execute_result"
    }
   ],
   "source": [
    "first_row = chapters_data.iloc[0].to_dict()\n",
    "first_row"
   ]
  },
  {
   "cell_type": "markdown",
   "metadata": {},
   "source": [
    "And we can look at a single column. The numbers on the left correspond to the row numbers, called the \"index\" (remember that Python indexes start counting from 0)."
   ]
  },
  {
   "cell_type": "code",
   "execution_count": 4,
   "metadata": {},
   "outputs": [
    {
     "data": {
      "text/plain": [
       "0                      Meghan\n",
       "1                      Darcie\n",
       "2                 Bree & Dana\n",
       "3            Brittany & Marli\n",
       "4          Michelle & Jessica\n",
       "5                     Lindsay\n",
       "6                   Christine\n",
       "7                 Meg & Abena\n",
       "8     Christopher & MacKenzie\n",
       "9                        Lisa\n",
       "10             Kelly & Jennie\n",
       "11             Erika & Cassie\n",
       "12           Jasmine & Cassie\n",
       "13                       Dana\n",
       "14           Erin & Christina\n",
       "15                    Amandah\n",
       "16         Guillaume & Karine\n",
       "Name: Chapter Lead(s), dtype: object"
      ]
     },
     "execution_count": 4,
     "metadata": {},
     "output_type": "execute_result"
    }
   ],
   "source": [
    "leaders = chapters_data['Chapter Lead(s)']\n",
    "leaders"
   ]
  },
  {
   "cell_type": "markdown",
   "metadata": {},
   "source": [
    "As we did in exercise 5, we can find which chapters have co-leaders, count them, and display the city names. With `pandas` we can do this with a few lines of code and we don't need any `for` loops! "
   ]
  },
  {
   "cell_type": "code",
   "execution_count": 5,
   "metadata": {
    "scrolled": true
   },
   "outputs": [
    {
     "name": "stdout",
     "output_type": "stream",
     "text": [
      "There are 10 chapters with co-leads. These chapters are:\n"
     ]
    },
    {
     "data": {
      "text/plain": [
       "2      Edmonton\n",
       "3     Saskatoon\n",
       "4      Winnipeg\n",
       "7      Hamilton\n",
       "8       Halifax\n",
       "10       London\n",
       "11     Montreal\n",
       "12       Ottawa\n",
       "14     Victoria\n",
       "16       Quebec\n",
       "Name: City, dtype: object"
      ]
     },
     "execution_count": 5,
     "metadata": {},
     "output_type": "execute_result"
    }
   ],
   "source": [
    "coleads = leaders.str.find('&') >= 0\n",
    "n_coleads = coleads.sum()\n",
    "print('There are ' + str(n_coleads) + ' chapters with co-leads. These chapters are:')\n",
    "chapters_data.loc[coleads, 'City']"
   ]
  },
  {
   "cell_type": "markdown",
   "metadata": {},
   "source": [
    "<strong>Not needing a `for` loop actually becomes really important when you're working with big data files.</strong> Python loops are fine for small data sets like the ones we explored in the workshop, but for much bigger data they are too slow. When you use `pandas`, which uses `numpy` behind the scenes, the code in this library is all optimized to work much faster and more efficiently with large amounts of data, compared to a Python loop.\n",
    "\n",
    "[back to top](#top)"
   ]
  },
  {
   "cell_type": "markdown",
   "metadata": {},
   "source": [
    "#### Example 2: Canada Learning Code Events"
   ]
  },
  {
   "cell_type": "markdown",
   "metadata": {},
   "source": [
    "Here we have a slightly larger data set (`'llc-workshop-data.csv'`) and we can really start to see the power of `pandas`!\n",
    "\n",
    "First we read the data into a variable `events` and see that it has 6487 rows and 11 columns."
   ]
  },
  {
   "cell_type": "code",
   "execution_count": 6,
   "metadata": {},
   "outputs": [
    {
     "data": {
      "text/plain": [
       "(6487, 11)"
      ]
     },
     "execution_count": 6,
     "metadata": {},
     "output_type": "execute_result"
    }
   ],
   "source": [
    "events = pandas.read_csv('data/llc-workshop-data.csv')\n",
    "events.shape"
   ]
  },
  {
   "cell_type": "markdown",
   "metadata": {},
   "source": [
    "Let's look at the first few rows of our data table. Anywhere you see \"NaN\" in the table, that stands for \"not a number\" and indicates an empty cell in the table (missing data)."
   ]
  },
  {
   "cell_type": "code",
   "execution_count": 7,
   "metadata": {},
   "outputs": [
    {
     "data": {
      "text/html": [
       "<div>\n",
       "<style scoped>\n",
       "    .dataframe tbody tr th:only-of-type {\n",
       "        vertical-align: middle;\n",
       "    }\n",
       "\n",
       "    .dataframe tbody tr th {\n",
       "        vertical-align: top;\n",
       "    }\n",
       "\n",
       "    .dataframe thead th {\n",
       "        text-align: right;\n",
       "    }\n",
       "</style>\n",
       "<table border=\"1\" class=\"dataframe\">\n",
       "  <thead>\n",
       "    <tr style=\"text-align: right;\">\n",
       "      <th></th>\n",
       "      <th>Event Name</th>\n",
       "      <th>Event ID</th>\n",
       "      <th>Order #</th>\n",
       "      <th>Order Date</th>\n",
       "      <th>Quantity</th>\n",
       "      <th>Ticket Type</th>\n",
       "      <th>Attendee #</th>\n",
       "      <th>Date Attending</th>\n",
       "      <th>Order Type</th>\n",
       "      <th>Gender</th>\n",
       "      <th>How did you hear about this event?</th>\n",
       "    </tr>\n",
       "  </thead>\n",
       "  <tbody>\n",
       "    <tr>\n",
       "      <th>0</th>\n",
       "      <td>Introduction to HTML &amp; CSS in Toronto</td>\n",
       "      <td>9849231316</td>\n",
       "      <td>236882194</td>\n",
       "      <td>2013-12-16</td>\n",
       "      <td>1</td>\n",
       "      <td>Yes, I'd like to attend!</td>\n",
       "      <td>300683796</td>\n",
       "      <td>2014-01-08</td>\n",
       "      <td>PayPal Completed</td>\n",
       "      <td>Female</td>\n",
       "      <td>NaN</td>\n",
       "    </tr>\n",
       "    <tr>\n",
       "      <th>1</th>\n",
       "      <td>Introduction to HTML &amp; CSS in Toronto</td>\n",
       "      <td>9849231316</td>\n",
       "      <td>236888382</td>\n",
       "      <td>2013-12-16</td>\n",
       "      <td>1</td>\n",
       "      <td>Yes, I'd like to attend!</td>\n",
       "      <td>300691338</td>\n",
       "      <td>2014-01-08</td>\n",
       "      <td>PayPal Completed</td>\n",
       "      <td>Female</td>\n",
       "      <td>NaN</td>\n",
       "    </tr>\n",
       "    <tr>\n",
       "      <th>2</th>\n",
       "      <td>Introduction to HTML &amp; CSS in Toronto</td>\n",
       "      <td>9849231316</td>\n",
       "      <td>236916392</td>\n",
       "      <td>2013-12-16</td>\n",
       "      <td>1</td>\n",
       "      <td>Yes, I'd like to attend!</td>\n",
       "      <td>300726210</td>\n",
       "      <td>2014-01-08</td>\n",
       "      <td>PayPal Completed</td>\n",
       "      <td>Female</td>\n",
       "      <td>NaN</td>\n",
       "    </tr>\n",
       "    <tr>\n",
       "      <th>3</th>\n",
       "      <td>Introduction to HTML &amp; CSS in Toronto</td>\n",
       "      <td>9849231316</td>\n",
       "      <td>237225952</td>\n",
       "      <td>2013-12-18</td>\n",
       "      <td>1</td>\n",
       "      <td>Yes, I'd like to attend!</td>\n",
       "      <td>301102696</td>\n",
       "      <td>2014-01-08</td>\n",
       "      <td>PayPal Completed</td>\n",
       "      <td>Female</td>\n",
       "      <td>NaN</td>\n",
       "    </tr>\n",
       "    <tr>\n",
       "      <th>4</th>\n",
       "      <td>Introduction to HTML &amp; CSS in Toronto</td>\n",
       "      <td>9849231316</td>\n",
       "      <td>238323753</td>\n",
       "      <td>2013-12-25</td>\n",
       "      <td>1</td>\n",
       "      <td>Yes, I'd like to attend!</td>\n",
       "      <td>302451151</td>\n",
       "      <td>2014-01-08</td>\n",
       "      <td>PayPal Completed</td>\n",
       "      <td>Female</td>\n",
       "      <td>NaN</td>\n",
       "    </tr>\n",
       "  </tbody>\n",
       "</table>\n",
       "</div>"
      ],
      "text/plain": [
       "                              Event Name    Event ID    Order #  Order Date  \\\n",
       "0  Introduction to HTML & CSS in Toronto  9849231316  236882194  2013-12-16   \n",
       "1  Introduction to HTML & CSS in Toronto  9849231316  236888382  2013-12-16   \n",
       "2  Introduction to HTML & CSS in Toronto  9849231316  236916392  2013-12-16   \n",
       "3  Introduction to HTML & CSS in Toronto  9849231316  237225952  2013-12-18   \n",
       "4  Introduction to HTML & CSS in Toronto  9849231316  238323753  2013-12-25   \n",
       "\n",
       "   Quantity               Ticket Type  Attendee # Date Attending  \\\n",
       "0         1  Yes, I'd like to attend!   300683796     2014-01-08   \n",
       "1         1  Yes, I'd like to attend!   300691338     2014-01-08   \n",
       "2         1  Yes, I'd like to attend!   300726210     2014-01-08   \n",
       "3         1  Yes, I'd like to attend!   301102696     2014-01-08   \n",
       "4         1  Yes, I'd like to attend!   302451151     2014-01-08   \n",
       "\n",
       "         Order Type  Gender How did you hear about this event?  \n",
       "0  PayPal Completed  Female                                NaN  \n",
       "1  PayPal Completed  Female                                NaN  \n",
       "2  PayPal Completed  Female                                NaN  \n",
       "3  PayPal Completed  Female                                NaN  \n",
       "4  PayPal Completed  Female                                NaN  "
      ]
     },
     "execution_count": 7,
     "metadata": {},
     "output_type": "execute_result"
    }
   ],
   "source": [
    "events.head()"
   ]
  },
  {
   "cell_type": "markdown",
   "metadata": {},
   "source": [
    "We can see that our data encompasses events from Jan 8, 2014 to Dec 13, 2014:"
   ]
  },
  {
   "cell_type": "code",
   "execution_count": 8,
   "metadata": {},
   "outputs": [
    {
     "name": "stdout",
     "output_type": "stream",
     "text": [
      "First event 2014-01-08\n",
      "Last event 2014-12-13\n"
     ]
    }
   ],
   "source": [
    "print('First event ' + events['Date Attending'].min())\n",
    "print('Last event ' + events['Date Attending'].max())"
   ]
  },
  {
   "cell_type": "markdown",
   "metadata": {},
   "source": [
    "Each row of the `events` table corresponds to a participant in an event, so for a single event there are many rows which will all have the same value in the \"Event Name\" column. With a single line of code, and no `for` loops, we can obtain a sorted list of all the event names and the number of participants for each event name! \n",
    "\n",
    "Let's check out the 20 event names with the most participants. Many of these events occurred multiple times during the year, so what we're looking at is the grand total over the year, for each event name."
   ]
  },
  {
   "cell_type": "code",
   "execution_count": 9,
   "metadata": {
    "scrolled": false
   },
   "outputs": [
    {
     "data": {
      "text/plain": [
       "Intro to HTML & CSS  (Toronto)                                                                            424\n",
       "WordPress for Beginners in Toronto                                                                        219\n",
       "Intro to HTML & CSS in Toronto                                                                            171\n",
       "National Learn to Code Day 2014 Intro to HTML & CSS: Building a Multi-Page Website in Toronto             169\n",
       "Introduction to JavaScript  (Toronto)                                                                     108\n",
       "CSS Fundamentals for Beginners in Toronto                                                                 107\n",
       "Intro to Photoshop  in Toronto                                                                             95\n",
       "Intro to HTML5 & Responsive Design in Toronto                                                              94\n",
       "Intro to HTML & CSS: Building a One Page Website (Victoria Edition)                                        88\n",
       "National Learn to Code Day 2014 Intro to HTML & CSS: Building a Multi-Page Website (Victoria Edition)      81\n",
       "Intro to HTML & CSS (Edmonton Edition)                                                                     81\n",
       "Girls Learning Code Day: Intro to HTML & CSS in Victoria! (ages 8-13)                                      79\n",
       "Weekday Intro to HTML & CSS: Building a Multi-Page Website in Toronto                                      78\n",
       "WordPress for Beginners  (Toronto)                                                                         76\n",
       "Intro to HTML5 and Responsive Design in Toronto                                                            74\n",
       "Creative Coding and Data Visualization with Processing  (Toronto)                                          66\n",
       "National Learn to Code Day 2014 Intro to HTML & CSS: Building a Multi-Page Website (Vancouver Edition)     65\n",
       "Introduction to Web Design in Toronto                                                                      64\n",
       "Nov 15th: Creative Coding and Data Visualization with Processing in Toronto                                63\n",
       "Intro to HTML & CSS (Vancouver Edition)                                                                    57\n",
       "Name: Event Name, dtype: int64"
      ]
     },
     "execution_count": 9,
     "metadata": {},
     "output_type": "execute_result"
    }
   ],
   "source": [
    "events['Event Name'].value_counts().head(20)"
   ]
  },
  {
   "cell_type": "markdown",
   "metadata": {},
   "source": [
    "Let's find how many people participated in \"National Learn to Code Day\" events. Once again, no loops required!"
   ]
  },
  {
   "cell_type": "code",
   "execution_count": 10,
   "metadata": {},
   "outputs": [
    {
     "name": "stdout",
     "output_type": "stream",
     "text": [
      "799 attended National Learn to Code Day\n"
     ]
    }
   ],
   "source": [
    "national = events['Event Name'].str.find('National Learn to Code Day') >= 0\n",
    "n_national = national.sum()\n",
    "print(str(n_national) + ' attended National Learn to Code Day')"
   ]
  },
  {
   "cell_type": "markdown",
   "metadata": {},
   "source": [
    "And now let's find the totals for \"Kids Learning Code\" plus \"Girls Learning Code\" events, and any youth-oriented \"National Learn to Code Day\" events:"
   ]
  },
  {
   "cell_type": "code",
   "execution_count": 11,
   "metadata": {
    "scrolled": true
   },
   "outputs": [
    {
     "name": "stdout",
     "output_type": "stream",
     "text": [
      "1575 attended Kids Learning Code or Girls Learning Code events\n",
      "71 attended youth-oriented National Learn to Code Day\n"
     ]
    }
   ],
   "source": [
    "kids = events['Event Name'].str.find('Kids Learning Code') >= 0\n",
    "girls = events['Event Name'].str.find('Girls Learning Code') >= 0\n",
    "youth = kids | girls\n",
    "print(str(youth.sum()) + ' attended Kids Learning Code or Girls Learning Code events')\n",
    "\n",
    "kids_national = events.loc[national, 'Event Name'].str.find('Kids Learning Code') >= 0\n",
    "girls_national = events.loc[national, 'Event Name'].str.find('Girls Learning Code') >= 0\n",
    "youth_national = kids_national | girls_national\n",
    "\n",
    "print(str(youth_national.sum()) + ' attended youth-oriented National Learn to Code Day')"
   ]
  },
  {
   "cell_type": "markdown",
   "metadata": {},
   "source": [
    "[back to top](#top)\n",
    "\n",
    "##### That covers the exercises we did in the workshop. Now let's see how we could use `pandas` to explore the data further."
   ]
  },
  {
   "cell_type": "markdown",
   "metadata": {},
   "source": [
    "When you were viewing the `'llc-workshop-data.csv'` file, you may have noticed there were different categories of participants in the \"Ticket Type\" column. Let's see the 20 most common participant categories, and the total number of participants in each:"
   ]
  },
  {
   "cell_type": "code",
   "execution_count": 12,
   "metadata": {
    "scrolled": false
   },
   "outputs": [
    {
     "data": {
      "text/plain": [
       "Yes, I'd like to attend!                   3671\n",
       "Yes, I'd like to mentor!                   1155\n",
       "Register a Girl & Parent/Guardian           522\n",
       "Register a girl                             261\n",
       "Register to mentor                          198\n",
       "Register a boy!                             172\n",
       "Register a girl!                            150\n",
       "Register a boy                               90\n",
       "Make a Donation!                             35\n",
       "Yes, I'd like to register a teen girl!       34\n",
       "Register a girl (Bring Your Own Laptop)      20\n",
       "Ladies Learning Code Alumni                  17\n",
       "Yes, I'd like to volunteer!                  15\n",
       "Register a boy! (Bring Your Own Laptop)      15\n",
       "Register!                                    14\n",
       "Register a boy (Use Our Laptop)              10\n",
       "Register to Mentor                           10\n",
       "Register a girl (Use Our Laptop)             10\n",
       "Register a Girl + Parent/Guardian             9\n",
       "Yes I'd like to volunteer!                    9\n",
       "Name: Ticket Type, dtype: int64"
      ]
     },
     "execution_count": 12,
     "metadata": {},
     "output_type": "execute_result"
    }
   ],
   "source": [
    "events['Ticket Type'].value_counts().head(20)"
   ]
  },
  {
   "cell_type": "markdown",
   "metadata": {},
   "source": [
    "Let's suppose we only want to count National Learn to Code Day participants in the \"Yes I'd like to attend!\" category. Here is that count:"
   ]
  },
  {
   "cell_type": "code",
   "execution_count": 13,
   "metadata": {},
   "outputs": [
    {
     "name": "stdout",
     "output_type": "stream",
     "text": [
      "524 attended National Learn to Code Day with a ticket type: Yes, I'd like to attend!\n"
     ]
    }
   ],
   "source": [
    "ticket = \"Yes, I'd like to attend!\"\n",
    "attend = events['Ticket Type'] == ticket\n",
    "national_attend = national & attend\n",
    "print(str(national_attend.sum()) + ' attended National Learn to Code Day with a ticket type: ' + ticket)"
   ]
  },
  {
   "cell_type": "markdown",
   "metadata": {},
   "source": [
    "What about patterns over time? Let's see how many participants there were each month:"
   ]
  },
  {
   "cell_type": "code",
   "execution_count": 14,
   "metadata": {},
   "outputs": [
    {
     "data": {
      "text/html": [
       "<div>\n",
       "<style scoped>\n",
       "    .dataframe tbody tr th:only-of-type {\n",
       "        vertical-align: middle;\n",
       "    }\n",
       "\n",
       "    .dataframe tbody tr th {\n",
       "        vertical-align: top;\n",
       "    }\n",
       "\n",
       "    .dataframe thead th {\n",
       "        text-align: right;\n",
       "    }\n",
       "</style>\n",
       "<table border=\"1\" class=\"dataframe\">\n",
       "  <thead>\n",
       "    <tr style=\"text-align: right;\">\n",
       "      <th></th>\n",
       "      <th># Participants</th>\n",
       "    </tr>\n",
       "    <tr>\n",
       "      <th>month</th>\n",
       "      <th></th>\n",
       "    </tr>\n",
       "  </thead>\n",
       "  <tbody>\n",
       "    <tr>\n",
       "      <th>1</th>\n",
       "      <td>509</td>\n",
       "    </tr>\n",
       "    <tr>\n",
       "      <th>2</th>\n",
       "      <td>649</td>\n",
       "    </tr>\n",
       "    <tr>\n",
       "      <th>3</th>\n",
       "      <td>505</td>\n",
       "    </tr>\n",
       "    <tr>\n",
       "      <th>4</th>\n",
       "      <td>708</td>\n",
       "    </tr>\n",
       "    <tr>\n",
       "      <th>5</th>\n",
       "      <td>435</td>\n",
       "    </tr>\n",
       "    <tr>\n",
       "      <th>6</th>\n",
       "      <td>425</td>\n",
       "    </tr>\n",
       "    <tr>\n",
       "      <th>7</th>\n",
       "      <td>261</td>\n",
       "    </tr>\n",
       "    <tr>\n",
       "      <th>8</th>\n",
       "      <td>155</td>\n",
       "    </tr>\n",
       "    <tr>\n",
       "      <th>9</th>\n",
       "      <td>981</td>\n",
       "    </tr>\n",
       "    <tr>\n",
       "      <th>10</th>\n",
       "      <td>482</td>\n",
       "    </tr>\n",
       "    <tr>\n",
       "      <th>11</th>\n",
       "      <td>1101</td>\n",
       "    </tr>\n",
       "    <tr>\n",
       "      <th>12</th>\n",
       "      <td>276</td>\n",
       "    </tr>\n",
       "  </tbody>\n",
       "</table>\n",
       "</div>"
      ],
      "text/plain": [
       "       # Participants\n",
       "month                \n",
       "1                 509\n",
       "2                 649\n",
       "3                 505\n",
       "4                 708\n",
       "5                 435\n",
       "6                 425\n",
       "7                 261\n",
       "8                 155\n",
       "9                 981\n",
       "10                482\n",
       "11               1101\n",
       "12                276"
      ]
     },
     "execution_count": 14,
     "metadata": {},
     "output_type": "execute_result"
    }
   ],
   "source": [
    "events['date'] = pandas.to_datetime(events['Date Attending'])\n",
    "events['month'] = events['date'].dt.month\n",
    "monthly = events[['Quantity', 'month']].groupby('month').sum()\n",
    "monthly = monthly.rename(columns = {'Quantity' : '# Participants'})\n",
    "monthly"
   ]
  },
  {
   "cell_type": "markdown",
   "metadata": {},
   "source": [
    "It would be nice to see this data as a graph. We can do this with just a couple of lines of code. The `%matplotlib inline` line is a special command that tells Jupyter notebook to display graphs inline in the notebook."
   ]
  },
  {
   "cell_type": "code",
   "execution_count": 15,
   "metadata": {},
   "outputs": [
    {
     "data": {
      "image/png": "[encoded data removed]",
      "text/plain": [
       "<matplotlib.figure.Figure at 0x2a0b360ef98>"
      ]
     },
     "metadata": {},
     "output_type": "display_data"
    }
   ],
   "source": [
    "%matplotlib inline\n",
    "\n",
    "monthly.plot.bar(title='Monthly Participants');"
   ]
  },
  {
   "cell_type": "markdown",
   "metadata": {},
   "source": [
    "How about monthly totals for the categories we looked at earlier?"
   ]
  },
  {
   "cell_type": "code",
   "execution_count": 16,
   "metadata": {},
   "outputs": [
    {
     "data": {
      "text/html": [
       "<div>\n",
       "<style scoped>\n",
       "    .dataframe tbody tr th:only-of-type {\n",
       "        vertical-align: middle;\n",
       "    }\n",
       "\n",
       "    .dataframe tbody tr th {\n",
       "        vertical-align: top;\n",
       "    }\n",
       "\n",
       "    .dataframe thead th {\n",
       "        text-align: right;\n",
       "    }\n",
       "</style>\n",
       "<table border=\"1\" class=\"dataframe\">\n",
       "  <thead>\n",
       "    <tr style=\"text-align: right;\">\n",
       "      <th></th>\n",
       "      <th>National Learn to Code Day</th>\n",
       "      <th>Kids Learning Code</th>\n",
       "      <th>Girls Learning Code</th>\n",
       "    </tr>\n",
       "    <tr>\n",
       "      <th>month</th>\n",
       "      <th></th>\n",
       "      <th></th>\n",
       "      <th></th>\n",
       "    </tr>\n",
       "  </thead>\n",
       "  <tbody>\n",
       "    <tr>\n",
       "      <th>1</th>\n",
       "      <td>NaN</td>\n",
       "      <td>18.0</td>\n",
       "      <td>14.0</td>\n",
       "    </tr>\n",
       "    <tr>\n",
       "      <th>2</th>\n",
       "      <td>NaN</td>\n",
       "      <td>59.0</td>\n",
       "      <td>34.0</td>\n",
       "    </tr>\n",
       "    <tr>\n",
       "      <th>3</th>\n",
       "      <td>NaN</td>\n",
       "      <td>47.0</td>\n",
       "      <td>25.0</td>\n",
       "    </tr>\n",
       "    <tr>\n",
       "      <th>4</th>\n",
       "      <td>NaN</td>\n",
       "      <td>61.0</td>\n",
       "      <td>24.0</td>\n",
       "    </tr>\n",
       "    <tr>\n",
       "      <th>5</th>\n",
       "      <td>NaN</td>\n",
       "      <td>50.0</td>\n",
       "      <td>70.0</td>\n",
       "    </tr>\n",
       "    <tr>\n",
       "      <th>6</th>\n",
       "      <td>NaN</td>\n",
       "      <td>53.0</td>\n",
       "      <td>49.0</td>\n",
       "    </tr>\n",
       "    <tr>\n",
       "      <th>7</th>\n",
       "      <td>NaN</td>\n",
       "      <td>13.0</td>\n",
       "      <td>NaN</td>\n",
       "    </tr>\n",
       "    <tr>\n",
       "      <th>8</th>\n",
       "      <td>NaN</td>\n",
       "      <td>NaN</td>\n",
       "      <td>NaN</td>\n",
       "    </tr>\n",
       "    <tr>\n",
       "      <th>9</th>\n",
       "      <td>798.0</td>\n",
       "      <td>62.0</td>\n",
       "      <td>73.0</td>\n",
       "    </tr>\n",
       "    <tr>\n",
       "      <th>10</th>\n",
       "      <td>NaN</td>\n",
       "      <td>31.0</td>\n",
       "      <td>37.0</td>\n",
       "    </tr>\n",
       "    <tr>\n",
       "      <th>11</th>\n",
       "      <td>1.0</td>\n",
       "      <td>128.0</td>\n",
       "      <td>603.0</td>\n",
       "    </tr>\n",
       "    <tr>\n",
       "      <th>12</th>\n",
       "      <td>NaN</td>\n",
       "      <td>87.0</td>\n",
       "      <td>37.0</td>\n",
       "    </tr>\n",
       "  </tbody>\n",
       "</table>\n",
       "</div>"
      ],
      "text/plain": [
       "       National Learn to Code Day  Kids Learning Code  Girls Learning Code\n",
       "month                                                                     \n",
       "1                             NaN                18.0                 14.0\n",
       "2                             NaN                59.0                 34.0\n",
       "3                             NaN                47.0                 25.0\n",
       "4                             NaN                61.0                 24.0\n",
       "5                             NaN                50.0                 70.0\n",
       "6                             NaN                53.0                 49.0\n",
       "7                             NaN                13.0                  NaN\n",
       "8                             NaN                 NaN                  NaN\n",
       "9                           798.0                62.0                 73.0\n",
       "10                            NaN                31.0                 37.0\n",
       "11                            1.0               128.0                603.0\n",
       "12                            NaN                87.0                 37.0"
      ]
     },
     "execution_count": 16,
     "metadata": {},
     "output_type": "execute_result"
    }
   ],
   "source": [
    "categories = ['National Learn to Code Day', 'Kids Learning Code', 'Girls Learning Code']\n",
    "monthly_cat = pandas.DataFrame(index=range(1, 13), columns=categories)\n",
    "monthly_cat.index.name = 'month'\n",
    "for category in categories:\n",
    "    data = events[events['Event Name'].str.find(category) >= 0]\n",
    "    monthly_cat[category] = data[['Quantity', 'month']].groupby('month').sum()['Quantity']\n",
    "monthly_cat"
   ]
  },
  {
   "cell_type": "markdown",
   "metadata": {},
   "source": [
    "Looks pretty good, except you might notice something strange... National Learn to Code Day was in September, but there is one participant listed for it in November. What's going on? With `pandas` we can easily investigate:"
   ]
  },
  {
   "cell_type": "code",
   "execution_count": 17,
   "metadata": {},
   "outputs": [
    {
     "data": {
      "text/html": [
       "<div>\n",
       "<style scoped>\n",
       "    .dataframe tbody tr th:only-of-type {\n",
       "        vertical-align: middle;\n",
       "    }\n",
       "\n",
       "    .dataframe tbody tr th {\n",
       "        vertical-align: top;\n",
       "    }\n",
       "\n",
       "    .dataframe thead th {\n",
       "        text-align: right;\n",
       "    }\n",
       "</style>\n",
       "<table border=\"1\" class=\"dataframe\">\n",
       "  <thead>\n",
       "    <tr style=\"text-align: right;\">\n",
       "      <th></th>\n",
       "      <th>Event Name</th>\n",
       "      <th>Event ID</th>\n",
       "      <th>Order #</th>\n",
       "      <th>Order Date</th>\n",
       "      <th>Quantity</th>\n",
       "      <th>Ticket Type</th>\n",
       "      <th>Attendee #</th>\n",
       "      <th>Date Attending</th>\n",
       "      <th>Order Type</th>\n",
       "      <th>Gender</th>\n",
       "      <th>How did you hear about this event?</th>\n",
       "      <th>date</th>\n",
       "      <th>month</th>\n",
       "    </tr>\n",
       "  </thead>\n",
       "  <tbody>\n",
       "    <tr>\n",
       "      <th>5279</th>\n",
       "      <td>National Learn to Code Day: Intro to HTML &amp; CS...</td>\n",
       "      <td>13209711603</td>\n",
       "      <td>356187119</td>\n",
       "      <td>2014-10-10</td>\n",
       "      <td>1</td>\n",
       "      <td>Register to mentor</td>\n",
       "      <td>450472457</td>\n",
       "      <td>2014-11-08</td>\n",
       "      <td>Free Order</td>\n",
       "      <td>NaN</td>\n",
       "      <td>Other</td>\n",
       "      <td>2014-11-08</td>\n",
       "      <td>11</td>\n",
       "    </tr>\n",
       "  </tbody>\n",
       "</table>\n",
       "</div>"
      ],
      "text/plain": [
       "                                             Event Name     Event ID  \\\n",
       "5279  National Learn to Code Day: Intro to HTML & CS...  13209711603   \n",
       "\n",
       "        Order #  Order Date  Quantity         Ticket Type  Attendee #  \\\n",
       "5279  356187119  2014-10-10         1  Register to mentor   450472457   \n",
       "\n",
       "     Date Attending  Order Type Gender How did you hear about this event?  \\\n",
       "5279     2014-11-08  Free Order    NaN                              Other   \n",
       "\n",
       "           date  month  \n",
       "5279 2014-11-08     11  "
      ]
     },
     "execution_count": 17,
     "metadata": {},
     "output_type": "execute_result"
    }
   ],
   "source": [
    "wonky = events['Event Name'].str.find('National Learn to Code Day') >= 0\n",
    "wonky = wonky & (events['month'] == 11)\n",
    "events[wonky]"
   ]
  },
  {
   "cell_type": "markdown",
   "metadata": {},
   "source": [
    "Sure enough, here is one participant listed for a National Learn to Code Day event, but with \"Date Attending\" as November 8. Let's look the first 10 rows with same Event ID, which should correspond to the same specific event:"
   ]
  },
  {
   "cell_type": "code",
   "execution_count": 18,
   "metadata": {
    "scrolled": false
   },
   "outputs": [
    {
     "data": {
      "text/html": [
       "<div>\n",
       "<style scoped>\n",
       "    .dataframe tbody tr th:only-of-type {\n",
       "        vertical-align: middle;\n",
       "    }\n",
       "\n",
       "    .dataframe tbody tr th {\n",
       "        vertical-align: top;\n",
       "    }\n",
       "\n",
       "    .dataframe thead th {\n",
       "        text-align: right;\n",
       "    }\n",
       "</style>\n",
       "<table border=\"1\" class=\"dataframe\">\n",
       "  <thead>\n",
       "    <tr style=\"text-align: right;\">\n",
       "      <th></th>\n",
       "      <th>Event Name</th>\n",
       "      <th>Event ID</th>\n",
       "      <th>Order #</th>\n",
       "      <th>Order Date</th>\n",
       "      <th>Quantity</th>\n",
       "      <th>Ticket Type</th>\n",
       "      <th>Attendee #</th>\n",
       "      <th>Date Attending</th>\n",
       "      <th>Order Type</th>\n",
       "      <th>Gender</th>\n",
       "      <th>How did you hear about this event?</th>\n",
       "      <th>date</th>\n",
       "      <th>month</th>\n",
       "    </tr>\n",
       "  </thead>\n",
       "  <tbody>\n",
       "    <tr>\n",
       "      <th>5274</th>\n",
       "      <td>Girls Learning Code Day: Intro to HTML &amp; CSS i...</td>\n",
       "      <td>13209711603</td>\n",
       "      <td>352026737</td>\n",
       "      <td>2014-10-02</td>\n",
       "      <td>1</td>\n",
       "      <td>Register a Girl &amp; Parent/Guardian</td>\n",
       "      <td>445287897</td>\n",
       "      <td>2014-11-08</td>\n",
       "      <td>Free Order</td>\n",
       "      <td>NaN</td>\n",
       "      <td>Other</td>\n",
       "      <td>2014-11-08</td>\n",
       "      <td>11</td>\n",
       "    </tr>\n",
       "    <tr>\n",
       "      <th>5275</th>\n",
       "      <td>Girls Learning Code Day: Intro to HTML &amp; CSS i...</td>\n",
       "      <td>13209711603</td>\n",
       "      <td>353034505</td>\n",
       "      <td>2014-10-05</td>\n",
       "      <td>1</td>\n",
       "      <td>Register a Girl &amp; Parent/Guardian</td>\n",
       "      <td>446552415</td>\n",
       "      <td>2014-11-08</td>\n",
       "      <td>Free Order</td>\n",
       "      <td>NaN</td>\n",
       "      <td>From a Friend</td>\n",
       "      <td>2014-11-08</td>\n",
       "      <td>11</td>\n",
       "    </tr>\n",
       "    <tr>\n",
       "      <th>5276</th>\n",
       "      <td>Girls Learning Code Day: Intro to HTML &amp; CSS i...</td>\n",
       "      <td>13209711603</td>\n",
       "      <td>353034505</td>\n",
       "      <td>2014-10-05</td>\n",
       "      <td>1</td>\n",
       "      <td>Register a Girl &amp; Parent/Guardian</td>\n",
       "      <td>446552419</td>\n",
       "      <td>2014-11-08</td>\n",
       "      <td>Free Order</td>\n",
       "      <td>NaN</td>\n",
       "      <td>Other</td>\n",
       "      <td>2014-11-08</td>\n",
       "      <td>11</td>\n",
       "    </tr>\n",
       "    <tr>\n",
       "      <th>5277</th>\n",
       "      <td>Girls Learning Code Day: Intro to HTML &amp; CSS i...</td>\n",
       "      <td>13209711603</td>\n",
       "      <td>354093537</td>\n",
       "      <td>2014-10-07</td>\n",
       "      <td>1</td>\n",
       "      <td>Register a Girl &amp; Parent/Guardian</td>\n",
       "      <td>447869453</td>\n",
       "      <td>2014-11-08</td>\n",
       "      <td>Free Order</td>\n",
       "      <td>NaN</td>\n",
       "      <td>From a Friend</td>\n",
       "      <td>2014-11-08</td>\n",
       "      <td>11</td>\n",
       "    </tr>\n",
       "    <tr>\n",
       "      <th>5278</th>\n",
       "      <td>Girls Learning Code Day: Intro to HTML &amp; CSS i...</td>\n",
       "      <td>13209711603</td>\n",
       "      <td>354987441</td>\n",
       "      <td>2014-10-08</td>\n",
       "      <td>1</td>\n",
       "      <td>Register a Girl &amp; Parent/Guardian</td>\n",
       "      <td>448978279</td>\n",
       "      <td>2014-11-08</td>\n",
       "      <td>Free Order</td>\n",
       "      <td>NaN</td>\n",
       "      <td>From a Friend</td>\n",
       "      <td>2014-11-08</td>\n",
       "      <td>11</td>\n",
       "    </tr>\n",
       "    <tr>\n",
       "      <th>5279</th>\n",
       "      <td>National Learn to Code Day: Intro to HTML &amp; CS...</td>\n",
       "      <td>13209711603</td>\n",
       "      <td>356187119</td>\n",
       "      <td>2014-10-10</td>\n",
       "      <td>1</td>\n",
       "      <td>Register to mentor</td>\n",
       "      <td>450472457</td>\n",
       "      <td>2014-11-08</td>\n",
       "      <td>Free Order</td>\n",
       "      <td>NaN</td>\n",
       "      <td>Other</td>\n",
       "      <td>2014-11-08</td>\n",
       "      <td>11</td>\n",
       "    </tr>\n",
       "    <tr>\n",
       "      <th>5280</th>\n",
       "      <td>Girls Learning Code Day: Intro to HTML &amp; CSS i...</td>\n",
       "      <td>13209711603</td>\n",
       "      <td>356406519</td>\n",
       "      <td>2014-10-11</td>\n",
       "      <td>1</td>\n",
       "      <td>Register to mentor</td>\n",
       "      <td>450742683</td>\n",
       "      <td>2014-11-08</td>\n",
       "      <td>Free Order</td>\n",
       "      <td>NaN</td>\n",
       "      <td>Other</td>\n",
       "      <td>2014-11-08</td>\n",
       "      <td>11</td>\n",
       "    </tr>\n",
       "    <tr>\n",
       "      <th>5281</th>\n",
       "      <td>Girls Learning Code Day: Intro to HTML &amp; CSS i...</td>\n",
       "      <td>13209711603</td>\n",
       "      <td>356875759</td>\n",
       "      <td>2014-10-12</td>\n",
       "      <td>1</td>\n",
       "      <td>Register a Girl &amp; Parent/Guardian</td>\n",
       "      <td>451322811</td>\n",
       "      <td>2014-11-08</td>\n",
       "      <td>Free Order</td>\n",
       "      <td>NaN</td>\n",
       "      <td>Other</td>\n",
       "      <td>2014-11-08</td>\n",
       "      <td>11</td>\n",
       "    </tr>\n",
       "    <tr>\n",
       "      <th>5282</th>\n",
       "      <td>Girls Learning Code Day: Intro to HTML &amp; CSS i...</td>\n",
       "      <td>13209711603</td>\n",
       "      <td>357160335</td>\n",
       "      <td>2014-10-13</td>\n",
       "      <td>1</td>\n",
       "      <td>Register a Girl &amp; Parent/Guardian</td>\n",
       "      <td>451665465</td>\n",
       "      <td>2014-11-08</td>\n",
       "      <td>Free Order</td>\n",
       "      <td>NaN</td>\n",
       "      <td>From a Friend</td>\n",
       "      <td>2014-11-08</td>\n",
       "      <td>11</td>\n",
       "    </tr>\n",
       "    <tr>\n",
       "      <th>5283</th>\n",
       "      <td>Girls Learning Code Day: Intro to HTML &amp; CSS i...</td>\n",
       "      <td>13209711603</td>\n",
       "      <td>357322717</td>\n",
       "      <td>2014-10-13</td>\n",
       "      <td>1</td>\n",
       "      <td>Register a Girl &amp; Parent/Guardian</td>\n",
       "      <td>451864891</td>\n",
       "      <td>2014-11-08</td>\n",
       "      <td>Free Order</td>\n",
       "      <td>NaN</td>\n",
       "      <td>Other</td>\n",
       "      <td>2014-11-08</td>\n",
       "      <td>11</td>\n",
       "    </tr>\n",
       "  </tbody>\n",
       "</table>\n",
       "</div>"
      ],
      "text/plain": [
       "                                             Event Name     Event ID  \\\n",
       "5274  Girls Learning Code Day: Intro to HTML & CSS i...  13209711603   \n",
       "5275  Girls Learning Code Day: Intro to HTML & CSS i...  13209711603   \n",
       "5276  Girls Learning Code Day: Intro to HTML & CSS i...  13209711603   \n",
       "5277  Girls Learning Code Day: Intro to HTML & CSS i...  13209711603   \n",
       "5278  Girls Learning Code Day: Intro to HTML & CSS i...  13209711603   \n",
       "5279  National Learn to Code Day: Intro to HTML & CS...  13209711603   \n",
       "5280  Girls Learning Code Day: Intro to HTML & CSS i...  13209711603   \n",
       "5281  Girls Learning Code Day: Intro to HTML & CSS i...  13209711603   \n",
       "5282  Girls Learning Code Day: Intro to HTML & CSS i...  13209711603   \n",
       "5283  Girls Learning Code Day: Intro to HTML & CSS i...  13209711603   \n",
       "\n",
       "        Order #  Order Date  Quantity                        Ticket Type  \\\n",
       "5274  352026737  2014-10-02         1  Register a Girl & Parent/Guardian   \n",
       "5275  353034505  2014-10-05         1  Register a Girl & Parent/Guardian   \n",
       "5276  353034505  2014-10-05         1  Register a Girl & Parent/Guardian   \n",
       "5277  354093537  2014-10-07         1  Register a Girl & Parent/Guardian   \n",
       "5278  354987441  2014-10-08         1  Register a Girl & Parent/Guardian   \n",
       "5279  356187119  2014-10-10         1                 Register to mentor   \n",
       "5280  356406519  2014-10-11         1                 Register to mentor   \n",
       "5281  356875759  2014-10-12         1  Register a Girl & Parent/Guardian   \n",
       "5282  357160335  2014-10-13         1  Register a Girl & Parent/Guardian   \n",
       "5283  357322717  2014-10-13         1  Register a Girl & Parent/Guardian   \n",
       "\n",
       "      Attendee # Date Attending  Order Type Gender  \\\n",
       "5274   445287897     2014-11-08  Free Order    NaN   \n",
       "5275   446552415     2014-11-08  Free Order    NaN   \n",
       "5276   446552419     2014-11-08  Free Order    NaN   \n",
       "5277   447869453     2014-11-08  Free Order    NaN   \n",
       "5278   448978279     2014-11-08  Free Order    NaN   \n",
       "5279   450472457     2014-11-08  Free Order    NaN   \n",
       "5280   450742683     2014-11-08  Free Order    NaN   \n",
       "5281   451322811     2014-11-08  Free Order    NaN   \n",
       "5282   451665465     2014-11-08  Free Order    NaN   \n",
       "5283   451864891     2014-11-08  Free Order    NaN   \n",
       "\n",
       "     How did you hear about this event?       date  month  \n",
       "5274                              Other 2014-11-08     11  \n",
       "5275                      From a Friend 2014-11-08     11  \n",
       "5276                              Other 2014-11-08     11  \n",
       "5277                      From a Friend 2014-11-08     11  \n",
       "5278                      From a Friend 2014-11-08     11  \n",
       "5279                              Other 2014-11-08     11  \n",
       "5280                              Other 2014-11-08     11  \n",
       "5281                              Other 2014-11-08     11  \n",
       "5282                      From a Friend 2014-11-08     11  \n",
       "5283                              Other 2014-11-08     11  "
      ]
     },
     "execution_count": 18,
     "metadata": {},
     "output_type": "execute_result"
    }
   ],
   "source": [
    "event_id = int(events.loc[wonky, 'Event ID'])\n",
    "events[events['Event ID'] == event_id].head(10)"
   ]
  },
  {
   "cell_type": "markdown",
   "metadata": {},
   "source": [
    "We can see that in row 5279, the event is listed as a \"National Learn to Code Day\" event, but the other entries for this event ID are listed as a \"Girls Learning Code Day\" event, suggesting an error might have somehow crept in when the data was entered. Since `pandas` allows us to quickly summarize the data from many different angles, such as monthly totals above, it becomes much easier to spot inconsistencies and possible errors.\n",
    "\n",
    "Now let's check out these monthly totals by category as a bar chart:"
   ]
  },
  {
   "cell_type": "code",
   "execution_count": 19,
   "metadata": {},
   "outputs": [
    {
     "data": {
      "image/png": "[encoded data removed]",
      "text/plain": [
       "<matplotlib.figure.Figure at 0x2a0b2dd8eb8>"
      ]
     },
     "metadata": {},
     "output_type": "display_data"
    }
   ],
   "source": [
    "monthly_cat.plot.bar(title='Monthly Participants');"
   ]
  },
  {
   "cell_type": "markdown",
   "metadata": {},
   "source": [
    "You may have noticed in the code above, that we didn't include any commands to specify the x-axis label or the names of the series in the legend. When you create a graph in `pandas`, it automatically labels things for you, based on the row and column names of your data table. You can change the labels if you want (for example, make the x-axis label \"Month\" instead of \"month\"), but when you're first exploring your data it's really handy to be able to quickly generate graphs with all the labels automatically created for you.\n",
    "\n",
    "How about the number of participants at each event? Here's what that looks like:"
   ]
  },
  {
   "cell_type": "code",
   "execution_count": 20,
   "metadata": {},
   "outputs": [
    {
     "name": "stdout",
     "output_type": "stream",
     "text": [
      "169 attended the biggest event\n",
      "1 attended the smallest event\n",
      "33.1 was the average attendance per event\n"
     ]
    }
   ],
   "source": [
    "att_by_event = events.groupby('Event ID').sum()['Quantity']\n",
    "print(str(att_by_event.max()) + ' attended the biggest event')\n",
    "print(str(att_by_event.min()) + ' attended the smallest event')\n",
    "print(str(round(att_by_event.mean(), 1)) + ' was the average attendance per event')"
   ]
  },
  {
   "cell_type": "markdown",
   "metadata": {},
   "source": [
    "Now let's look at totals by gender. Looking at participants in all the events, we see that they are about 32% female, 6% male, and 62% not listed."
   ]
  },
  {
   "cell_type": "code",
   "execution_count": 21,
   "metadata": {
    "scrolled": true
   },
   "outputs": [
    {
     "data": {
      "text/html": [
       "<div>\n",
       "<style scoped>\n",
       "    .dataframe tbody tr th:only-of-type {\n",
       "        vertical-align: middle;\n",
       "    }\n",
       "\n",
       "    .dataframe tbody tr th {\n",
       "        vertical-align: top;\n",
       "    }\n",
       "\n",
       "    .dataframe thead th {\n",
       "        text-align: right;\n",
       "    }\n",
       "</style>\n",
       "<table border=\"1\" class=\"dataframe\">\n",
       "  <thead>\n",
       "    <tr style=\"text-align: right;\">\n",
       "      <th></th>\n",
       "      <th># Participants</th>\n",
       "      <th>% Participants</th>\n",
       "    </tr>\n",
       "  </thead>\n",
       "  <tbody>\n",
       "    <tr>\n",
       "      <th>Not listed</th>\n",
       "      <td>4024</td>\n",
       "      <td>62.031756</td>\n",
       "    </tr>\n",
       "    <tr>\n",
       "      <th>Female</th>\n",
       "      <td>2100</td>\n",
       "      <td>32.372437</td>\n",
       "    </tr>\n",
       "    <tr>\n",
       "      <th>Male</th>\n",
       "      <td>363</td>\n",
       "      <td>5.595807</td>\n",
       "    </tr>\n",
       "  </tbody>\n",
       "</table>\n",
       "</div>"
      ],
      "text/plain": [
       "            # Participants  % Participants\n",
       "Not listed            4024       62.031756\n",
       "Female                2100       32.372437\n",
       "Male                   363        5.595807"
      ]
     },
     "execution_count": 21,
     "metadata": {},
     "output_type": "execute_result"
    }
   ],
   "source": [
    "genders = events['Gender'].value_counts(dropna=False).to_frame(name='# Participants')\n",
    "genders = genders.set_index(genders.index.fillna('Not listed'))\n",
    "genders['% Participants'] = 100 * genders['# Participants'] / genders['# Participants'].sum()\n",
    "genders"
   ]
  },
  {
   "cell_type": "markdown",
   "metadata": {},
   "source": [
    "[back to top](#top)\n",
    "\n",
    "##### Now, let's try some fancy schmancy stuff to really show off the amazing power of Python + `pandas`\n",
    "\n",
    "When you were viewing the `'llc-workshop-data.csv'` file, you may have noticed that most of the names in the \"Event Name\" column included the name of the city, in a variety of different formats (e.g. \"in Toronto\", \"(Toronto Edition)\", \"(Toronto)\", \" - Toronto\"). This situation is typical in real world data&mdash;it's often messy and inconsistent, with two or more useful pieces of information smushed into one and no obvious way to extract those parts out of the whole. It would be nice to extract the city names, so we could analyze the data on a city-by-city basis, but how would we even do this in a spreadsheet? It is possible, but it would be quite excruciating.\n",
    "\n",
    "In Python, however, this sort of task is much, much easier. It requires knowledge of some more advanced concepts, but after you've learned those concepts it's pretty straightforward to apply them to a situation like this one. In the code below, I'm using \"regular expressions\" from the `re` library to look for text patterns that allow me to find and extract the city names.\n",
    "\n",
    "The code below may look overwhelming, but as before, don't worry about trying to understand the details of it for now. The code is taking all the event names in our data, looking for the various patterns associated with the city names (\"in Toronto\", \"(Toronto)\", etc.) and then putting the city name and a standardized version of the event name (minus the city) into two new columns of our data table."
   ]
  },
  {
   "cell_type": "code",
   "execution_count": 22,
   "metadata": {},
   "outputs": [
    {
     "data": {
      "text/html": [
       "<div>\n",
       "<style scoped>\n",
       "    .dataframe tbody tr th:only-of-type {\n",
       "        vertical-align: middle;\n",
       "    }\n",
       "\n",
       "    .dataframe tbody tr th {\n",
       "        vertical-align: top;\n",
       "    }\n",
       "\n",
       "    .dataframe thead th {\n",
       "        text-align: right;\n",
       "    }\n",
       "</style>\n",
       "<table border=\"1\" class=\"dataframe\">\n",
       "  <thead>\n",
       "    <tr style=\"text-align: right;\">\n",
       "      <th></th>\n",
       "      <th>Event Name</th>\n",
       "      <th>Event Name (standardized)</th>\n",
       "      <th>City</th>\n",
       "    </tr>\n",
       "  </thead>\n",
       "  <tbody>\n",
       "    <tr>\n",
       "      <th>0</th>\n",
       "      <td>Introduction to HTML &amp; CSS in Toronto</td>\n",
       "      <td>Intro to HTML &amp; CSS</td>\n",
       "      <td>Toronto</td>\n",
       "    </tr>\n",
       "    <tr>\n",
       "      <th>1</th>\n",
       "      <td>Introduction to HTML &amp; CSS in Toronto</td>\n",
       "      <td>Intro to HTML &amp; CSS</td>\n",
       "      <td>Toronto</td>\n",
       "    </tr>\n",
       "    <tr>\n",
       "      <th>2</th>\n",
       "      <td>Introduction to HTML &amp; CSS in Toronto</td>\n",
       "      <td>Intro to HTML &amp; CSS</td>\n",
       "      <td>Toronto</td>\n",
       "    </tr>\n",
       "    <tr>\n",
       "      <th>3</th>\n",
       "      <td>Introduction to HTML &amp; CSS in Toronto</td>\n",
       "      <td>Intro to HTML &amp; CSS</td>\n",
       "      <td>Toronto</td>\n",
       "    </tr>\n",
       "    <tr>\n",
       "      <th>4</th>\n",
       "      <td>Introduction to HTML &amp; CSS in Toronto</td>\n",
       "      <td>Intro to HTML &amp; CSS</td>\n",
       "      <td>Toronto</td>\n",
       "    </tr>\n",
       "  </tbody>\n",
       "</table>\n",
       "</div>"
      ],
      "text/plain": [
       "                              Event Name Event Name (standardized)     City\n",
       "0  Introduction to HTML & CSS in Toronto       Intro to HTML & CSS  Toronto\n",
       "1  Introduction to HTML & CSS in Toronto       Intro to HTML & CSS  Toronto\n",
       "2  Introduction to HTML & CSS in Toronto       Intro to HTML & CSS  Toronto\n",
       "3  Introduction to HTML & CSS in Toronto       Intro to HTML & CSS  Toronto\n",
       "4  Introduction to HTML & CSS in Toronto       Intro to HTML & CSS  Toronto"
      ]
     },
     "execution_count": 22,
     "metadata": {},
     "output_type": "execute_result"
    }
   ],
   "source": [
    "import re\n",
    "\n",
    "def parse_event_name(name):\n",
    "    \"\"\"Return a pandas Series with event name parsed into event and city\"\"\"\n",
    "    event, city = name, None\n",
    "    \n",
    "    # Small workaround to keep some patterns from being mistaken for cities\n",
    "    event = event.replace('(Responsive Design)', '[Responsive Design]')\n",
    "    event = event.replace(' - Holiday Edition', '[Holiday Edition]')\n",
    "\n",
    "    # Check for cities listed as '(Vancouver Edition)', '(Vancouver)', '(Winnipeg Launch)', etc.\n",
    "    matches = re.findall('\\([A-Z][a-z]+.*\\)', event)\n",
    "    if len(matches) > 0:\n",
    "        event = event.replace(matches[0], '').strip()      \n",
    "        city = matches[0].replace('(', '').replace(')', '')\n",
    "        city = city.replace('Edition', '').replace('Launch', '').strip()\n",
    "        \n",
    "    # Check for cities listed as 'in Vancouver', 'in Toronto', etc.\n",
    "    matches = re.findall(' in [A-z][a-z]+', event)\n",
    "    if len(matches) > 0:\n",
    "        event = event.replace(matches[0], '').strip()\n",
    "        city = matches[0].replace(' in ', '').strip()\n",
    "   \n",
    "    # Check for cities listed as ' - Vancouver', ' - Toronto', etc.\n",
    "    matches = re.findall(' - [A-z][a-z]+', event)\n",
    "    if len(matches) > 0:\n",
    "        event = event.replace(matches[0], '').strip()\n",
    "        city = matches[0].replace(' - ', '').strip()\n",
    "    \n",
    "    # Some events are named 'Intro to' and others are 'Introduction to'\n",
    "    # Let's standardize them to all use the same convention\n",
    "    event = event.replace('Introduction to', 'Intro to')\n",
    "    \n",
    "    # Return the output as a pandas Series\n",
    "    output = pandas.Series({'Event Name' : name,\n",
    "                            'Event Name (standardized)' : event,\n",
    "                            'City' : city})\n",
    "    return output\n",
    "\n",
    "# Parse all the event names in our data and add columns with the standardized\n",
    "# event name and the city name\n",
    "df = events['Event Name'].apply(parse_event_name).fillna('N/A')\n",
    "events = events.join(df[['Event Name (standardized)', 'City']], how='outer')\n",
    "events[['Event Name', 'Event Name (standardized)', 'City']].head()"
   ]
  },
  {
   "cell_type": "markdown",
   "metadata": {},
   "source": [
    "Now we have a column of city names, and with the code below we can easily check that the city names make sense, and see the number of participants for each city. When I was writing the `parse_event_name` function above, I started with just one pattern to look for the city name, and then used the code below to see what other patterns were in the data, and update my `parse_event_name` function with those patterns, building up my code with an <strong>iterative</strong> approach. `pandas` makes it easy to build up your code in this way, checking for each inconsistency or messiness in your data, and adding a few lines of code to account for it and standardize the data into a consistent format."
   ]
  },
  {
   "cell_type": "code",
   "execution_count": 23,
   "metadata": {},
   "outputs": [
    {
     "data": {
      "text/plain": [
       "Toronto               2669\n",
       "Vancouver              500\n",
       "N/A                    427\n",
       "Calgary                418\n",
       "Montreal               337\n",
       "Edmonton               308\n",
       "Victoria               296\n",
       "Ottawa                 264\n",
       "Halifax                216\n",
       "Saskatoon              176\n",
       "Hamilton               171\n",
       "Barrie                 168\n",
       "Fredericton            115\n",
       "Winnipeg                91\n",
       "Waterloo                75\n",
       "St. John's              74\n",
       "London                  67\n",
       "Kitchener/Waterloo      51\n",
       "Saint John              23\n",
       "Sydney                  15\n",
       "Whitehorse              14\n",
       "Regina                  12\n",
       "Name: City, dtype: int64"
      ]
     },
     "execution_count": 23,
     "metadata": {},
     "output_type": "execute_result"
    }
   ],
   "source": [
    "city_counts = events['City'].value_counts(dropna=False)\n",
    "city_counts"
   ]
  },
  {
   "cell_type": "markdown",
   "metadata": {},
   "source": [
    "The city names above all make sense, so it looks like the code is working the way we want it to. Any event name where `parse_event_name` couldn't find a city, has the city set to \"N/A\". In the code below, we can check all those events and make sure we didn't miss anything. This was another step I used in building up my `parse_event_name` function."
   ]
  },
  {
   "cell_type": "code",
   "execution_count": 24,
   "metadata": {},
   "outputs": [
    {
     "name": "stdout",
     "output_type": "stream",
     "text": [
      "Kids Learning Code: Graphic Design with Pixlr\n",
      "Kids Learning Code: Introduction to Video Creation for 6-8 year olds\n",
      "Kids Learning Code: Intro to Toy Hacking\n",
      "Kid Learning Code: Intro to Photoshop For Teens at George Brown College\n",
      "Kids Learning Code: Intro to Arduino for Father's Day\n",
      "Kids Learning Code: Game Design with Scratch ages 9-12\n",
      "Kids Learning Code: Intro to Programming with Python\n",
      "Kids Learning Code: Making Online Games with Scratch\n",
      "Girls Learning Code: Digital Drawing at George Brown College\n",
      "Kids Learning Code: Introduction to Makey Makey\n",
      "Kids Learning Code PA Day Introduction to HTML & CSS\n",
      "Girls Learning Code: Generative Art with Processing\n",
      "Girls Learning Code: CSS with Sublime Text for 9-12 year olds\n",
      "Kids Learning Code PA Day: Stop Motion Animation\n",
      "Kids Learning Code at Nelson Mandela (ages 8-13)\n",
      "Girls Learning Code: Intro to Programming with Ruby For Teens\n",
      "Kids Learning Code: After School Program\n",
      "Kids Learning Code: Intro to Photo Editing\n",
      "Kids Learning Code at Williamsburg Public School (ages 8-13)\n",
      "Kids Learning Code: Intro to Python For Teens\n",
      "Kids Learning Code: Inventors After-School Program\n",
      "Girls Learning Code: Intro to Arduino\n",
      "Kids Learning Code: Webmaking With HTML & CSS for 6-8 year olds\n",
      "Kids Learning Code: Generative Art with Processing for Mother's Day\n",
      "Kids Learning Code PA Day: Game Design with Scratch\n",
      "Kids Learning Code PA Day: HTML & CSS with Mozilla Thimble\n",
      "Kids Learning Code: Intro to Processing and Arduino for Teens\n",
      "Kids Learning Code: Graphics for Games with Pixlr\n"
     ]
    }
   ],
   "source": [
    "no_city = list(set(events.loc[events['City'] == 'N/A', 'Event Name']))\n",
    "for name in no_city:\n",
    "    print(name)"
   ]
  },
  {
   "cell_type": "markdown",
   "metadata": {},
   "source": [
    "Looks like everything is working the way we want it to! The event names above are all missing the city name, so it is correct to list the city as \"N/A\" for these events.\n",
    "\n",
    "Now that we've extracted the city names and standardized the event names, we can see the number of participants across all cities, for each event:"
   ]
  },
  {
   "cell_type": "code",
   "execution_count": 25,
   "metadata": {
    "scrolled": false
   },
   "outputs": [
    {
     "data": {
      "text/plain": [
       "Intro to HTML & CSS                                                                               1150\n",
       "National Learn to Code Day 2014 Intro to HTML & CSS: Building a Multi-Page Website                 705\n",
       "WordPress for Beginners                                                                            568\n",
       "Girls Learning Code Day: Intro to HTML & CSS! (ages 8-13)                                          454\n",
       "Intro to JavaScript                                                                                413\n",
       "Intro to Python                                                                                    154\n",
       "Intro to Photoshop                                                                                 146\n",
       "Intro to HTML5 & Responsive Design                                                                 130\n",
       "CSS Fundamentals for Beginners                                                                     121\n",
       "CSS Fundamentals                                                                                   112\n",
       "Intro to Web Design with Photoshop                                                                 106\n",
       "Intro to Web Design                                                                                106\n",
       "Girls Learning Code Mother- Daughter HTML & CSS                                                     99\n",
       "Intro to HTML & CSS: Building a One Page Website                                                    88\n",
       "Intro to Ruby                                                                                       82\n",
       "Weekday Intro to HTML & CSS: Building a Multi-Page Website                                          78\n",
       "Intro to jQuery                                                                                     78\n",
       "Intro to HTML5 and Responsive Design                                                                74\n",
       "Intro to Photoshop & Illustrator                                                                    68\n",
       "Creative Coding and Data Visualization with Processing                                              66\n",
       "Nov 15th: Creative Coding and Data Visualization with Processing                                    63\n",
       "Intro to Drupal                                                                                     59\n",
       "Intro to Photoshop and Illustrator                                                                  51\n",
       "Girls Learning Code: Intro to Arduino                                                               50\n",
       "Intro to Mobile Web                                                                                 49\n",
       "Ladies Learning Code Instructor & Mentor Appreciation Night                                         47\n",
       "July 21 & 23: WordPress for Beginners                                                               47\n",
       "Girls Learning Code Day (ages 8-13): Intro to HTML & CSS                                            46\n",
       "Girls Learning Code Day: Intro to HTML & CSS for Teens! (ages 13-17)                                43\n",
       "Intro to Mobile Web --> HTML5 and Responsive Design                                                 38\n",
       "                                                                                                  ... \n",
       "Girls Learning Code: Intro to Image Editing and Animation[Holiday Edition]                          16\n",
       "Kids Learning Code (ages 6-8): Inventing with MaKey MaKey                                           16\n",
       "Kids Learning Code: Graphic Design with Pixlr                                                       16\n",
       "Kids Learning Code (ages 6-8): Photo Editing with Pixlr                                             15\n",
       "Girls Learning Code Day: Intro to HTML & CSS, NS! (ages 8-13)                                       15\n",
       "Kid Learning Code: Intro to Photoshop For Teens at George Brown College                             15\n",
       "Kids Learning Code: Intro to Programming with Python                                                15\n",
       "Girls Learning Code (ages 9-12): Intro to Ruby                                                      14\n",
       "Girls Learning Code Day: Intro to HTML & CSS! (ages 8-13 & 13-17)                                   14\n",
       "Girls Learning Code: Generative Art with Processing                                                 14\n",
       "Kids Learning Code: Intro to Processing and Arduino for Teens                                       14\n",
       "National Learn to Code Day 2014 Kids Learning Code Edition for Teens 13-16 Intro to HTML & CSS      14\n",
       "Intro to Mobile Web/ Responsive Web Design                                                          13\n",
       "Girls Learning Code (ages 9-12): Storytelling with Multimedia                                       12\n",
       "Kids Learning Code (ages 13-16): Sound Design with Reaper and Fmod Studio                           11\n",
       "Girls Learning Code: Intro to Programming with Ruby For Teens                                       11\n",
       "Kids Learning Code Game Design                                                                      11\n",
       "Kids Learning Code: After School Program                                                            10\n",
       "Girls Learning Code: CSS with Sublime Text for 9-12 year olds                                       10\n",
       "Kids Learning Code: Generative Art with Processing for Mother's Day                                  9\n",
       "Kids Learning Code: Intro to Arduino for Father's Day                                                8\n",
       "Kids Learning Code: Webmaking With HTML & CSS for 6-8 year olds                                      7\n",
       "Girls Learning Code Intro to HTML & CSS for Teens                                                    6\n",
       "Kids Learning Code: Intro to Photo Editing                                                           6\n",
       "Kids Learning Code: Game Design with Scratch ages 9-12                                               6\n",
       "Kids Learning Code: Inventors After-School Program                                                   5\n",
       "Girls Learning Code: Intro to HTML & CSS for Teens                                                   5\n",
       "Family Information Night                                                                             1\n",
       "National Learn to Code Day: Intro to HTML & CSS! (ages 8-13)                                         1\n",
       "Kids Learning Code PA Day: Stop Motion Animation                                                     1\n",
       "Name: Event Name (standardized), Length: 97, dtype: int64"
      ]
     },
     "execution_count": 25,
     "metadata": {},
     "output_type": "execute_result"
    }
   ],
   "source": [
    "events['Event Name (standardized)'].value_counts()"
   ]
  },
  {
   "cell_type": "markdown",
   "metadata": {},
   "source": [
    "We can now analyze the data on a city-by-city basis and extract many more insights from it. As an example, we can create a table of the attendance for each event, sorted from highest total attendance to lowest, and broken down by city. Here are the first 5 rows of that table:"
   ]
  },
  {
   "cell_type": "code",
   "execution_count": 26,
   "metadata": {},
   "outputs": [
    {
     "data": {
      "text/html": [
       "<div>\n",
       "<style scoped>\n",
       "    .dataframe tbody tr th:only-of-type {\n",
       "        vertical-align: middle;\n",
       "    }\n",
       "\n",
       "    .dataframe tbody tr th {\n",
       "        vertical-align: top;\n",
       "    }\n",
       "\n",
       "    .dataframe thead th {\n",
       "        text-align: right;\n",
       "    }\n",
       "</style>\n",
       "<table border=\"1\" class=\"dataframe\">\n",
       "  <thead>\n",
       "    <tr style=\"text-align: right;\">\n",
       "      <th>City</th>\n",
       "      <th>Barrie</th>\n",
       "      <th>Calgary</th>\n",
       "      <th>Edmonton</th>\n",
       "      <th>Fredericton</th>\n",
       "      <th>Halifax</th>\n",
       "      <th>Hamilton</th>\n",
       "      <th>Kitchener/Waterloo</th>\n",
       "      <th>London</th>\n",
       "      <th>Montreal</th>\n",
       "      <th>N/A</th>\n",
       "      <th>...</th>\n",
       "      <th>Saskatoon</th>\n",
       "      <th>St. John's</th>\n",
       "      <th>Sydney</th>\n",
       "      <th>Toronto</th>\n",
       "      <th>Vancouver</th>\n",
       "      <th>Victoria</th>\n",
       "      <th>Waterloo</th>\n",
       "      <th>Whitehorse</th>\n",
       "      <th>Winnipeg</th>\n",
       "      <th>Total</th>\n",
       "    </tr>\n",
       "    <tr>\n",
       "      <th>Event Name (standardized)</th>\n",
       "      <th></th>\n",
       "      <th></th>\n",
       "      <th></th>\n",
       "      <th></th>\n",
       "      <th></th>\n",
       "      <th></th>\n",
       "      <th></th>\n",
       "      <th></th>\n",
       "      <th></th>\n",
       "      <th></th>\n",
       "      <th></th>\n",
       "      <th></th>\n",
       "      <th></th>\n",
       "      <th></th>\n",
       "      <th></th>\n",
       "      <th></th>\n",
       "      <th></th>\n",
       "      <th></th>\n",
       "      <th></th>\n",
       "      <th></th>\n",
       "      <th></th>\n",
       "    </tr>\n",
       "  </thead>\n",
       "  <tbody>\n",
       "    <tr>\n",
       "      <th>Intro to HTML &amp; CSS</th>\n",
       "      <td>NaN</td>\n",
       "      <td>40.0</td>\n",
       "      <td>81.0</td>\n",
       "      <td>NaN</td>\n",
       "      <td>NaN</td>\n",
       "      <td>30.0</td>\n",
       "      <td>51.0</td>\n",
       "      <td>28.0</td>\n",
       "      <td>53.0</td>\n",
       "      <td>NaN</td>\n",
       "      <td>...</td>\n",
       "      <td>57.0</td>\n",
       "      <td>36.0</td>\n",
       "      <td>NaN</td>\n",
       "      <td>668.0</td>\n",
       "      <td>57.0</td>\n",
       "      <td>NaN</td>\n",
       "      <td>NaN</td>\n",
       "      <td>NaN</td>\n",
       "      <td>37.0</td>\n",
       "      <td>1150.0</td>\n",
       "    </tr>\n",
       "    <tr>\n",
       "      <th>National Learn to Code Day 2014 Intro to HTML &amp; CSS: Building a Multi-Page Website</th>\n",
       "      <td>29.0</td>\n",
       "      <td>41.0</td>\n",
       "      <td>43.0</td>\n",
       "      <td>17.0</td>\n",
       "      <td>50.0</td>\n",
       "      <td>34.0</td>\n",
       "      <td>NaN</td>\n",
       "      <td>NaN</td>\n",
       "      <td>51.0</td>\n",
       "      <td>NaN</td>\n",
       "      <td>...</td>\n",
       "      <td>45.0</td>\n",
       "      <td>NaN</td>\n",
       "      <td>NaN</td>\n",
       "      <td>169.0</td>\n",
       "      <td>65.0</td>\n",
       "      <td>81.0</td>\n",
       "      <td>35.0</td>\n",
       "      <td>NaN</td>\n",
       "      <td>NaN</td>\n",
       "      <td>705.0</td>\n",
       "    </tr>\n",
       "    <tr>\n",
       "      <th>WordPress for Beginners</th>\n",
       "      <td>28.0</td>\n",
       "      <td>NaN</td>\n",
       "      <td>38.0</td>\n",
       "      <td>NaN</td>\n",
       "      <td>28.0</td>\n",
       "      <td>NaN</td>\n",
       "      <td>NaN</td>\n",
       "      <td>NaN</td>\n",
       "      <td>37.0</td>\n",
       "      <td>NaN</td>\n",
       "      <td>...</td>\n",
       "      <td>NaN</td>\n",
       "      <td>38.0</td>\n",
       "      <td>NaN</td>\n",
       "      <td>295.0</td>\n",
       "      <td>52.0</td>\n",
       "      <td>NaN</td>\n",
       "      <td>NaN</td>\n",
       "      <td>NaN</td>\n",
       "      <td>NaN</td>\n",
       "      <td>568.0</td>\n",
       "    </tr>\n",
       "    <tr>\n",
       "      <th>Girls Learning Code Day: Intro to HTML &amp; CSS! (ages 8-13)</th>\n",
       "      <td>29.0</td>\n",
       "      <td>NaN</td>\n",
       "      <td>NaN</td>\n",
       "      <td>31.0</td>\n",
       "      <td>45.0</td>\n",
       "      <td>26.0</td>\n",
       "      <td>NaN</td>\n",
       "      <td>18.0</td>\n",
       "      <td>38.0</td>\n",
       "      <td>NaN</td>\n",
       "      <td>...</td>\n",
       "      <td>29.0</td>\n",
       "      <td>NaN</td>\n",
       "      <td>NaN</td>\n",
       "      <td>NaN</td>\n",
       "      <td>33.0</td>\n",
       "      <td>79.0</td>\n",
       "      <td>30.0</td>\n",
       "      <td>NaN</td>\n",
       "      <td>54.0</td>\n",
       "      <td>454.0</td>\n",
       "    </tr>\n",
       "    <tr>\n",
       "      <th>Intro to JavaScript</th>\n",
       "      <td>NaN</td>\n",
       "      <td>19.0</td>\n",
       "      <td>NaN</td>\n",
       "      <td>27.0</td>\n",
       "      <td>NaN</td>\n",
       "      <td>24.0</td>\n",
       "      <td>NaN</td>\n",
       "      <td>NaN</td>\n",
       "      <td>51.0</td>\n",
       "      <td>NaN</td>\n",
       "      <td>...</td>\n",
       "      <td>26.0</td>\n",
       "      <td>NaN</td>\n",
       "      <td>NaN</td>\n",
       "      <td>188.0</td>\n",
       "      <td>46.0</td>\n",
       "      <td>NaN</td>\n",
       "      <td>NaN</td>\n",
       "      <td>NaN</td>\n",
       "      <td>NaN</td>\n",
       "      <td>413.0</td>\n",
       "    </tr>\n",
       "  </tbody>\n",
       "</table>\n",
       "<p>5 rows × 23 columns</p>\n",
       "</div>"
      ],
      "text/plain": [
       "City                                                Barrie  Calgary  Edmonton  \\\n",
       "Event Name (standardized)                                                       \n",
       "Intro to HTML & CSS                                    NaN     40.0      81.0   \n",
       "National Learn to Code Day 2014 Intro to HTML &...    29.0     41.0      43.0   \n",
       "WordPress for Beginners                               28.0      NaN      38.0   \n",
       "Girls Learning Code Day: Intro to HTML & CSS! (...    29.0      NaN       NaN   \n",
       "Intro to JavaScript                                    NaN     19.0       NaN   \n",
       "\n",
       "City                                                Fredericton  Halifax  \\\n",
       "Event Name (standardized)                                                  \n",
       "Intro to HTML & CSS                                         NaN      NaN   \n",
       "National Learn to Code Day 2014 Intro to HTML &...         17.0     50.0   \n",
       "WordPress for Beginners                                     NaN     28.0   \n",
       "Girls Learning Code Day: Intro to HTML & CSS! (...         31.0     45.0   \n",
       "Intro to JavaScript                                        27.0      NaN   \n",
       "\n",
       "City                                                Hamilton  \\\n",
       "Event Name (standardized)                                      \n",
       "Intro to HTML & CSS                                     30.0   \n",
       "National Learn to Code Day 2014 Intro to HTML &...      34.0   \n",
       "WordPress for Beginners                                  NaN   \n",
       "Girls Learning Code Day: Intro to HTML & CSS! (...      26.0   \n",
       "Intro to JavaScript                                     24.0   \n",
       "\n",
       "City                                                Kitchener/Waterloo  \\\n",
       "Event Name (standardized)                                                \n",
       "Intro to HTML & CSS                                               51.0   \n",
       "National Learn to Code Day 2014 Intro to HTML &...                 NaN   \n",
       "WordPress for Beginners                                            NaN   \n",
       "Girls Learning Code Day: Intro to HTML & CSS! (...                 NaN   \n",
       "Intro to JavaScript                                                NaN   \n",
       "\n",
       "City                                                London  Montreal  N/A  \\\n",
       "Event Name (standardized)                                                   \n",
       "Intro to HTML & CSS                                   28.0      53.0  NaN   \n",
       "National Learn to Code Day 2014 Intro to HTML &...     NaN      51.0  NaN   \n",
       "WordPress for Beginners                                NaN      37.0  NaN   \n",
       "Girls Learning Code Day: Intro to HTML & CSS! (...    18.0      38.0  NaN   \n",
       "Intro to JavaScript                                    NaN      51.0  NaN   \n",
       "\n",
       "City                                                 ...    Saskatoon  \\\n",
       "Event Name (standardized)                            ...                \n",
       "Intro to HTML & CSS                                  ...         57.0   \n",
       "National Learn to Code Day 2014 Intro to HTML &...   ...         45.0   \n",
       "WordPress for Beginners                              ...          NaN   \n",
       "Girls Learning Code Day: Intro to HTML & CSS! (...   ...         29.0   \n",
       "Intro to JavaScript                                  ...         26.0   \n",
       "\n",
       "City                                                St. John's  Sydney  \\\n",
       "Event Name (standardized)                                                \n",
       "Intro to HTML & CSS                                       36.0     NaN   \n",
       "National Learn to Code Day 2014 Intro to HTML &...         NaN     NaN   \n",
       "WordPress for Beginners                                   38.0     NaN   \n",
       "Girls Learning Code Day: Intro to HTML & CSS! (...         NaN     NaN   \n",
       "Intro to JavaScript                                        NaN     NaN   \n",
       "\n",
       "City                                                Toronto  Vancouver  \\\n",
       "Event Name (standardized)                                                \n",
       "Intro to HTML & CSS                                   668.0       57.0   \n",
       "National Learn to Code Day 2014 Intro to HTML &...    169.0       65.0   \n",
       "WordPress for Beginners                               295.0       52.0   \n",
       "Girls Learning Code Day: Intro to HTML & CSS! (...      NaN       33.0   \n",
       "Intro to JavaScript                                   188.0       46.0   \n",
       "\n",
       "City                                                Victoria  Waterloo  \\\n",
       "Event Name (standardized)                                                \n",
       "Intro to HTML & CSS                                      NaN       NaN   \n",
       "National Learn to Code Day 2014 Intro to HTML &...      81.0      35.0   \n",
       "WordPress for Beginners                                  NaN       NaN   \n",
       "Girls Learning Code Day: Intro to HTML & CSS! (...      79.0      30.0   \n",
       "Intro to JavaScript                                      NaN       NaN   \n",
       "\n",
       "City                                                Whitehorse  Winnipeg  \\\n",
       "Event Name (standardized)                                                  \n",
       "Intro to HTML & CSS                                        NaN      37.0   \n",
       "National Learn to Code Day 2014 Intro to HTML &...         NaN       NaN   \n",
       "WordPress for Beginners                                    NaN       NaN   \n",
       "Girls Learning Code Day: Intro to HTML & CSS! (...         NaN      54.0   \n",
       "Intro to JavaScript                                        NaN       NaN   \n",
       "\n",
       "City                                                 Total  \n",
       "Event Name (standardized)                                   \n",
       "Intro to HTML & CSS                                 1150.0  \n",
       "National Learn to Code Day 2014 Intro to HTML &...   705.0  \n",
       "WordPress for Beginners                              568.0  \n",
       "Girls Learning Code Day: Intro to HTML & CSS! (...   454.0  \n",
       "Intro to JavaScript                                  413.0  \n",
       "\n",
       "[5 rows x 23 columns]"
      ]
     },
     "execution_count": 26,
     "metadata": {},
     "output_type": "execute_result"
    }
   ],
   "source": [
    "events_by_city = events.rename(columns={'Quantity' : '# Participants'})\n",
    "events_by_city = events_by_city.pivot_table(values='# Participants', \n",
    "                                            index='Event Name (standardized)',\n",
    "                                            columns='City', aggfunc='sum')\n",
    "events_by_city['Total'] = events_by_city.sum(axis=1)\n",
    "events_by_city = events_by_city.sort_values('Total', ascending=False)\n",
    "events_by_city.head()"
   ]
  },
  {
   "cell_type": "markdown",
   "metadata": {},
   "source": [
    "Here's a sorted breakdown by city for the most popular event, \"Intro to HTML & CSS\":"
   ]
  },
  {
   "cell_type": "code",
   "execution_count": 27,
   "metadata": {},
   "outputs": [
    {
     "data": {
      "text/plain": [
       "City\n",
       "Total                 1150.0\n",
       "Toronto                668.0\n",
       "Edmonton                81.0\n",
       "Vancouver               57.0\n",
       "Saskatoon               57.0\n",
       "Montreal                53.0\n",
       "Kitchener/Waterloo      51.0\n",
       "Calgary                 40.0\n",
       "Winnipeg                37.0\n",
       "St. John's              36.0\n",
       "Hamilton                30.0\n",
       "London                  28.0\n",
       "Regina                  12.0\n",
       "Name: Intro to HTML & CSS, dtype: float64"
      ]
     },
     "execution_count": 27,
     "metadata": {},
     "output_type": "execute_result"
    }
   ],
   "source": [
    "events_by_city.loc['Intro to HTML & CSS'].dropna().sort_values(ascending=False)"
   ]
  },
  {
   "cell_type": "markdown",
   "metadata": {},
   "source": [
    "Here's another view of the data&mdash;number of participants per month, per city:"
   ]
  },
  {
   "cell_type": "code",
   "execution_count": 28,
   "metadata": {},
   "outputs": [
    {
     "data": {
      "text/html": [
       "<div>\n",
       "<style scoped>\n",
       "    .dataframe tbody tr th:only-of-type {\n",
       "        vertical-align: middle;\n",
       "    }\n",
       "\n",
       "    .dataframe tbody tr th {\n",
       "        vertical-align: top;\n",
       "    }\n",
       "\n",
       "    .dataframe thead th {\n",
       "        text-align: right;\n",
       "    }\n",
       "</style>\n",
       "<table border=\"1\" class=\"dataframe\">\n",
       "  <thead>\n",
       "    <tr style=\"text-align: right;\">\n",
       "      <th>month</th>\n",
       "      <th>1</th>\n",
       "      <th>2</th>\n",
       "      <th>3</th>\n",
       "      <th>4</th>\n",
       "      <th>5</th>\n",
       "      <th>6</th>\n",
       "      <th>7</th>\n",
       "      <th>8</th>\n",
       "      <th>9</th>\n",
       "      <th>10</th>\n",
       "      <th>11</th>\n",
       "      <th>12</th>\n",
       "    </tr>\n",
       "    <tr>\n",
       "      <th>City</th>\n",
       "      <th></th>\n",
       "      <th></th>\n",
       "      <th></th>\n",
       "      <th></th>\n",
       "      <th></th>\n",
       "      <th></th>\n",
       "      <th></th>\n",
       "      <th></th>\n",
       "      <th></th>\n",
       "      <th></th>\n",
       "      <th></th>\n",
       "      <th></th>\n",
       "    </tr>\n",
       "  </thead>\n",
       "  <tbody>\n",
       "    <tr>\n",
       "      <th>Barrie</th>\n",
       "      <td>28.0</td>\n",
       "      <td>0.0</td>\n",
       "      <td>16.0</td>\n",
       "      <td>0.0</td>\n",
       "      <td>20.0</td>\n",
       "      <td>13.0</td>\n",
       "      <td>0.0</td>\n",
       "      <td>0.0</td>\n",
       "      <td>46.0</td>\n",
       "      <td>0.0</td>\n",
       "      <td>29.0</td>\n",
       "      <td>16.0</td>\n",
       "    </tr>\n",
       "    <tr>\n",
       "      <th>Calgary</th>\n",
       "      <td>30.0</td>\n",
       "      <td>28.0</td>\n",
       "      <td>52.0</td>\n",
       "      <td>40.0</td>\n",
       "      <td>19.0</td>\n",
       "      <td>36.0</td>\n",
       "      <td>47.0</td>\n",
       "      <td>0.0</td>\n",
       "      <td>77.0</td>\n",
       "      <td>19.0</td>\n",
       "      <td>49.0</td>\n",
       "      <td>21.0</td>\n",
       "    </tr>\n",
       "    <tr>\n",
       "      <th>Edmonton</th>\n",
       "      <td>81.0</td>\n",
       "      <td>37.0</td>\n",
       "      <td>38.0</td>\n",
       "      <td>25.0</td>\n",
       "      <td>0.0</td>\n",
       "      <td>40.0</td>\n",
       "      <td>0.0</td>\n",
       "      <td>0.0</td>\n",
       "      <td>43.0</td>\n",
       "      <td>17.0</td>\n",
       "      <td>27.0</td>\n",
       "      <td>0.0</td>\n",
       "    </tr>\n",
       "    <tr>\n",
       "      <th>Fredericton</th>\n",
       "      <td>0.0</td>\n",
       "      <td>27.0</td>\n",
       "      <td>0.0</td>\n",
       "      <td>20.0</td>\n",
       "      <td>20.0</td>\n",
       "      <td>0.0</td>\n",
       "      <td>0.0</td>\n",
       "      <td>0.0</td>\n",
       "      <td>17.0</td>\n",
       "      <td>0.0</td>\n",
       "      <td>31.0</td>\n",
       "      <td>0.0</td>\n",
       "    </tr>\n",
       "    <tr>\n",
       "      <th>Halifax</th>\n",
       "      <td>0.0</td>\n",
       "      <td>28.0</td>\n",
       "      <td>0.0</td>\n",
       "      <td>26.0</td>\n",
       "      <td>0.0</td>\n",
       "      <td>21.0</td>\n",
       "      <td>0.0</td>\n",
       "      <td>0.0</td>\n",
       "      <td>50.0</td>\n",
       "      <td>25.0</td>\n",
       "      <td>66.0</td>\n",
       "      <td>0.0</td>\n",
       "    </tr>\n",
       "    <tr>\n",
       "      <th>Hamilton</th>\n",
       "      <td>0.0</td>\n",
       "      <td>30.0</td>\n",
       "      <td>24.0</td>\n",
       "      <td>42.0</td>\n",
       "      <td>15.0</td>\n",
       "      <td>0.0</td>\n",
       "      <td>0.0</td>\n",
       "      <td>0.0</td>\n",
       "      <td>34.0</td>\n",
       "      <td>0.0</td>\n",
       "      <td>26.0</td>\n",
       "      <td>0.0</td>\n",
       "    </tr>\n",
       "    <tr>\n",
       "      <th>Kitchener/Waterloo</th>\n",
       "      <td>0.0</td>\n",
       "      <td>0.0</td>\n",
       "      <td>0.0</td>\n",
       "      <td>51.0</td>\n",
       "      <td>0.0</td>\n",
       "      <td>0.0</td>\n",
       "      <td>0.0</td>\n",
       "      <td>0.0</td>\n",
       "      <td>0.0</td>\n",
       "      <td>0.0</td>\n",
       "      <td>0.0</td>\n",
       "      <td>0.0</td>\n",
       "    </tr>\n",
       "    <tr>\n",
       "      <th>London</th>\n",
       "      <td>0.0</td>\n",
       "      <td>39.0</td>\n",
       "      <td>0.0</td>\n",
       "      <td>0.0</td>\n",
       "      <td>10.0</td>\n",
       "      <td>0.0</td>\n",
       "      <td>0.0</td>\n",
       "      <td>0.0</td>\n",
       "      <td>0.0</td>\n",
       "      <td>0.0</td>\n",
       "      <td>18.0</td>\n",
       "      <td>0.0</td>\n",
       "    </tr>\n",
       "    <tr>\n",
       "      <th>Montreal</th>\n",
       "      <td>53.0</td>\n",
       "      <td>51.0</td>\n",
       "      <td>49.0</td>\n",
       "      <td>43.0</td>\n",
       "      <td>15.0</td>\n",
       "      <td>37.0</td>\n",
       "      <td>0.0</td>\n",
       "      <td>0.0</td>\n",
       "      <td>51.0</td>\n",
       "      <td>0.0</td>\n",
       "      <td>38.0</td>\n",
       "      <td>0.0</td>\n",
       "    </tr>\n",
       "    <tr>\n",
       "      <th>N/A</th>\n",
       "      <td>32.0</td>\n",
       "      <td>92.0</td>\n",
       "      <td>47.0</td>\n",
       "      <td>85.0</td>\n",
       "      <td>50.0</td>\n",
       "      <td>53.0</td>\n",
       "      <td>13.0</td>\n",
       "      <td>0.0</td>\n",
       "      <td>0.0</td>\n",
       "      <td>5.0</td>\n",
       "      <td>18.0</td>\n",
       "      <td>32.0</td>\n",
       "    </tr>\n",
       "    <tr>\n",
       "      <th>Ottawa</th>\n",
       "      <td>52.0</td>\n",
       "      <td>5.0</td>\n",
       "      <td>0.0</td>\n",
       "      <td>16.0</td>\n",
       "      <td>40.0</td>\n",
       "      <td>0.0</td>\n",
       "      <td>32.0</td>\n",
       "      <td>0.0</td>\n",
       "      <td>45.0</td>\n",
       "      <td>0.0</td>\n",
       "      <td>74.0</td>\n",
       "      <td>0.0</td>\n",
       "    </tr>\n",
       "    <tr>\n",
       "      <th>Regina</th>\n",
       "      <td>0.0</td>\n",
       "      <td>0.0</td>\n",
       "      <td>12.0</td>\n",
       "      <td>0.0</td>\n",
       "      <td>0.0</td>\n",
       "      <td>0.0</td>\n",
       "      <td>0.0</td>\n",
       "      <td>0.0</td>\n",
       "      <td>0.0</td>\n",
       "      <td>0.0</td>\n",
       "      <td>0.0</td>\n",
       "      <td>0.0</td>\n",
       "    </tr>\n",
       "    <tr>\n",
       "      <th>Saint John</th>\n",
       "      <td>0.0</td>\n",
       "      <td>0.0</td>\n",
       "      <td>0.0</td>\n",
       "      <td>15.0</td>\n",
       "      <td>0.0</td>\n",
       "      <td>8.0</td>\n",
       "      <td>0.0</td>\n",
       "      <td>0.0</td>\n",
       "      <td>0.0</td>\n",
       "      <td>0.0</td>\n",
       "      <td>0.0</td>\n",
       "      <td>0.0</td>\n",
       "    </tr>\n",
       "    <tr>\n",
       "      <th>Saskatoon</th>\n",
       "      <td>57.0</td>\n",
       "      <td>0.0</td>\n",
       "      <td>19.0</td>\n",
       "      <td>0.0</td>\n",
       "      <td>0.0</td>\n",
       "      <td>26.0</td>\n",
       "      <td>0.0</td>\n",
       "      <td>0.0</td>\n",
       "      <td>45.0</td>\n",
       "      <td>0.0</td>\n",
       "      <td>29.0</td>\n",
       "      <td>0.0</td>\n",
       "    </tr>\n",
       "    <tr>\n",
       "      <th>St. John's</th>\n",
       "      <td>0.0</td>\n",
       "      <td>36.0</td>\n",
       "      <td>0.0</td>\n",
       "      <td>24.0</td>\n",
       "      <td>0.0</td>\n",
       "      <td>14.0</td>\n",
       "      <td>0.0</td>\n",
       "      <td>0.0</td>\n",
       "      <td>0.0</td>\n",
       "      <td>0.0</td>\n",
       "      <td>0.0</td>\n",
       "      <td>0.0</td>\n",
       "    </tr>\n",
       "    <tr>\n",
       "      <th>Sydney</th>\n",
       "      <td>0.0</td>\n",
       "      <td>0.0</td>\n",
       "      <td>0.0</td>\n",
       "      <td>0.0</td>\n",
       "      <td>0.0</td>\n",
       "      <td>0.0</td>\n",
       "      <td>0.0</td>\n",
       "      <td>0.0</td>\n",
       "      <td>0.0</td>\n",
       "      <td>0.0</td>\n",
       "      <td>15.0</td>\n",
       "      <td>0.0</td>\n",
       "    </tr>\n",
       "    <tr>\n",
       "      <th>Toronto</th>\n",
       "      <td>124.0</td>\n",
       "      <td>219.0</td>\n",
       "      <td>217.0</td>\n",
       "      <td>268.0</td>\n",
       "      <td>225.0</td>\n",
       "      <td>146.0</td>\n",
       "      <td>169.0</td>\n",
       "      <td>155.0</td>\n",
       "      <td>367.0</td>\n",
       "      <td>246.0</td>\n",
       "      <td>374.0</td>\n",
       "      <td>159.0</td>\n",
       "    </tr>\n",
       "    <tr>\n",
       "      <th>Vancouver</th>\n",
       "      <td>52.0</td>\n",
       "      <td>57.0</td>\n",
       "      <td>31.0</td>\n",
       "      <td>53.0</td>\n",
       "      <td>21.0</td>\n",
       "      <td>21.0</td>\n",
       "      <td>0.0</td>\n",
       "      <td>0.0</td>\n",
       "      <td>90.0</td>\n",
       "      <td>45.0</td>\n",
       "      <td>130.0</td>\n",
       "      <td>0.0</td>\n",
       "    </tr>\n",
       "    <tr>\n",
       "      <th>Victoria</th>\n",
       "      <td>0.0</td>\n",
       "      <td>0.0</td>\n",
       "      <td>0.0</td>\n",
       "      <td>0.0</td>\n",
       "      <td>0.0</td>\n",
       "      <td>0.0</td>\n",
       "      <td>0.0</td>\n",
       "      <td>0.0</td>\n",
       "      <td>81.0</td>\n",
       "      <td>88.0</td>\n",
       "      <td>79.0</td>\n",
       "      <td>48.0</td>\n",
       "    </tr>\n",
       "    <tr>\n",
       "      <th>Waterloo</th>\n",
       "      <td>0.0</td>\n",
       "      <td>0.0</td>\n",
       "      <td>0.0</td>\n",
       "      <td>0.0</td>\n",
       "      <td>0.0</td>\n",
       "      <td>10.0</td>\n",
       "      <td>0.0</td>\n",
       "      <td>0.0</td>\n",
       "      <td>35.0</td>\n",
       "      <td>0.0</td>\n",
       "      <td>30.0</td>\n",
       "      <td>0.0</td>\n",
       "    </tr>\n",
       "    <tr>\n",
       "      <th>Whitehorse</th>\n",
       "      <td>0.0</td>\n",
       "      <td>0.0</td>\n",
       "      <td>0.0</td>\n",
       "      <td>0.0</td>\n",
       "      <td>0.0</td>\n",
       "      <td>0.0</td>\n",
       "      <td>0.0</td>\n",
       "      <td>0.0</td>\n",
       "      <td>0.0</td>\n",
       "      <td>0.0</td>\n",
       "      <td>14.0</td>\n",
       "      <td>0.0</td>\n",
       "    </tr>\n",
       "    <tr>\n",
       "      <th>Winnipeg</th>\n",
       "      <td>0.0</td>\n",
       "      <td>0.0</td>\n",
       "      <td>0.0</td>\n",
       "      <td>0.0</td>\n",
       "      <td>0.0</td>\n",
       "      <td>0.0</td>\n",
       "      <td>0.0</td>\n",
       "      <td>0.0</td>\n",
       "      <td>0.0</td>\n",
       "      <td>37.0</td>\n",
       "      <td>54.0</td>\n",
       "      <td>0.0</td>\n",
       "    </tr>\n",
       "  </tbody>\n",
       "</table>\n",
       "</div>"
      ],
      "text/plain": [
       "month                  1      2      3      4      5      6      7      8   \\\n",
       "City                                                                         \n",
       "Barrie               28.0    0.0   16.0    0.0   20.0   13.0    0.0    0.0   \n",
       "Calgary              30.0   28.0   52.0   40.0   19.0   36.0   47.0    0.0   \n",
       "Edmonton             81.0   37.0   38.0   25.0    0.0   40.0    0.0    0.0   \n",
       "Fredericton           0.0   27.0    0.0   20.0   20.0    0.0    0.0    0.0   \n",
       "Halifax               0.0   28.0    0.0   26.0    0.0   21.0    0.0    0.0   \n",
       "Hamilton              0.0   30.0   24.0   42.0   15.0    0.0    0.0    0.0   \n",
       "Kitchener/Waterloo    0.0    0.0    0.0   51.0    0.0    0.0    0.0    0.0   \n",
       "London                0.0   39.0    0.0    0.0   10.0    0.0    0.0    0.0   \n",
       "Montreal             53.0   51.0   49.0   43.0   15.0   37.0    0.0    0.0   \n",
       "N/A                  32.0   92.0   47.0   85.0   50.0   53.0   13.0    0.0   \n",
       "Ottawa               52.0    5.0    0.0   16.0   40.0    0.0   32.0    0.0   \n",
       "Regina                0.0    0.0   12.0    0.0    0.0    0.0    0.0    0.0   \n",
       "Saint John            0.0    0.0    0.0   15.0    0.0    8.0    0.0    0.0   \n",
       "Saskatoon            57.0    0.0   19.0    0.0    0.0   26.0    0.0    0.0   \n",
       "St. John's            0.0   36.0    0.0   24.0    0.0   14.0    0.0    0.0   \n",
       "Sydney                0.0    0.0    0.0    0.0    0.0    0.0    0.0    0.0   \n",
       "Toronto             124.0  219.0  217.0  268.0  225.0  146.0  169.0  155.0   \n",
       "Vancouver            52.0   57.0   31.0   53.0   21.0   21.0    0.0    0.0   \n",
       "Victoria              0.0    0.0    0.0    0.0    0.0    0.0    0.0    0.0   \n",
       "Waterloo              0.0    0.0    0.0    0.0    0.0   10.0    0.0    0.0   \n",
       "Whitehorse            0.0    0.0    0.0    0.0    0.0    0.0    0.0    0.0   \n",
       "Winnipeg              0.0    0.0    0.0    0.0    0.0    0.0    0.0    0.0   \n",
       "\n",
       "month                  9      10     11     12  \n",
       "City                                            \n",
       "Barrie               46.0    0.0   29.0   16.0  \n",
       "Calgary              77.0   19.0   49.0   21.0  \n",
       "Edmonton             43.0   17.0   27.0    0.0  \n",
       "Fredericton          17.0    0.0   31.0    0.0  \n",
       "Halifax              50.0   25.0   66.0    0.0  \n",
       "Hamilton             34.0    0.0   26.0    0.0  \n",
       "Kitchener/Waterloo    0.0    0.0    0.0    0.0  \n",
       "London                0.0    0.0   18.0    0.0  \n",
       "Montreal             51.0    0.0   38.0    0.0  \n",
       "N/A                   0.0    5.0   18.0   32.0  \n",
       "Ottawa               45.0    0.0   74.0    0.0  \n",
       "Regina                0.0    0.0    0.0    0.0  \n",
       "Saint John            0.0    0.0    0.0    0.0  \n",
       "Saskatoon            45.0    0.0   29.0    0.0  \n",
       "St. John's            0.0    0.0    0.0    0.0  \n",
       "Sydney                0.0    0.0   15.0    0.0  \n",
       "Toronto             367.0  246.0  374.0  159.0  \n",
       "Vancouver            90.0   45.0  130.0    0.0  \n",
       "Victoria             81.0   88.0   79.0   48.0  \n",
       "Waterloo             35.0    0.0   30.0    0.0  \n",
       "Whitehorse            0.0    0.0   14.0    0.0  \n",
       "Winnipeg              0.0   37.0   54.0    0.0  "
      ]
     },
     "execution_count": 28,
     "metadata": {},
     "output_type": "execute_result"
    }
   ],
   "source": [
    "monthly_city = events.rename(columns={'Quantity' : '# Participants'})\n",
    "monthly_city = monthly_city.pivot_table(values='# Participants', index='City',\n",
    "                                        columns='month', aggfunc='sum')\n",
    "monthly_city = monthly_city.fillna(0)\n",
    "monthly_city"
   ]
  },
  {
   "cell_type": "markdown",
   "metadata": {},
   "source": [
    "And there are many other things we could to do explore this data further. Hopefully this demo gives you an idea of whether `pandas` would be a good tool to use in your own data analysis!\n",
    "\n",
    "[back to top](#top)"
   ]
  },
  {
   "cell_type": "markdown",
   "metadata": {},
   "source": [
    "<a id=\"viz\"></a>\n",
    "### 5. Data visualization demo"
   ]
  },
  {
   "cell_type": "markdown",
   "metadata": {},
   "source": [
    "There are many, many different data visualization libraries for making graphs and images in Python. In this section, I'll show examples of the kinds of graphs you can make with `pandas` (which uses `matplotlib` behind the scenes for creating graphs) and another popular library `seaborn`, which is also built on `matplotlib`. For many more examples of visualizations that can be created in these libraries, you can scroll through the images in these galleries:\n",
    "\n",
    "https://pandas.pydata.org/pandas-docs/stable/visualization.html\n",
    "\n",
    "https://matplotlib.org/gallery/index.html\n",
    "\n",
    "https://seaborn.pydata.org/examples/index.html\n",
    "\n",
    "<strong>This section is intended only as a demo, rather than as a lesson or tutorial</strong>, so don't worry about understanding all the code for now. For each bit of code, just check out the description above and the output below, to get a sense of what the code is doing.\n",
    "\n",
    "We'll start out by importing some of the libraries we'll use in this section, and renaming them to shorthand names (`np`, `plt`, `pd`, and `sns`). These are standard shorthands that you'll likely see throughout online tutorials and documentation for these libraries."
   ]
  },
  {
   "cell_type": "code",
   "execution_count": 29,
   "metadata": {},
   "outputs": [],
   "source": [
    "import numpy as np\n",
    "import matplotlib.pyplot as plt\n",
    "import pandas as pd\n",
    "import seaborn as sns"
   ]
  },
  {
   "cell_type": "markdown",
   "metadata": {},
   "source": [
    "Here's a stacked bar chart of the breakdown by city for the five most popular Canada Learning Code events in 2014 (from the example data we worked with in the previous section):"
   ]
  },
  {
   "cell_type": "code",
   "execution_count": 30,
   "metadata": {
    "scrolled": false
   },
   "outputs": [
    {
     "data": {
      "image/png": "[encoded data removed]",
      "text/plain": [
       "<matplotlib.figure.Figure at 0x2a0b5361400>"
      ]
     },
     "metadata": {},
     "output_type": "display_data"
    }
   ],
   "source": [
    "top_five = events_by_city.head(5).drop('Total', axis=1).T\n",
    "top_five.plot.bar(stacked=True, figsize=(10, 4))\n",
    "plt.ylabel('# Participants')\n",
    "plt.legend(loc='upper left', frameon=False);"
   ]
  },
  {
   "cell_type": "markdown",
   "metadata": {},
   "source": [
    "We can show the data as a horizontal stacked bar chart instead. Let's also sort the cities by the total number of participants across these top 5 events, and add some gridlines."
   ]
  },
  {
   "cell_type": "code",
   "execution_count": 31,
   "metadata": {
    "scrolled": false
   },
   "outputs": [
    {
     "data": {
      "image/png": "[encoded data removed]",
      "text/plain": [
       "<matplotlib.figure.Figure at 0x2a0b5759cf8>"
      ]
     },
     "metadata": {},
     "output_type": "display_data"
    }
   ],
   "source": [
    "sorted_top_five = top_five.copy()\n",
    "sorted_top_five['Total'] = sorted_top_five.sum(axis=1)\n",
    "sorted_top_five = sorted_top_five.sort_values('Total', ascending=True).drop('Total', axis=1)\n",
    "with sns.axes_style('darkgrid'):\n",
    "    sorted_top_five.plot.barh(stacked=True, figsize=(10, 7))\n",
    "    plt.xlabel('# Participants')\n",
    "    plt.legend(loc='center right')"
   ]
  },
  {
   "cell_type": "markdown",
   "metadata": {},
   "source": [
    "Here's an example of a line chart, using some fake timeseries data:"
   ]
  },
  {
   "cell_type": "code",
   "execution_count": 32,
   "metadata": {},
   "outputs": [
    {
     "data": {
      "image/png": "[encoded data removed]",
      "text/plain": [
       "<matplotlib.figure.Figure at 0x2a0b3cdd358>"
      ]
     },
     "metadata": {},
     "output_type": "display_data"
    }
   ],
   "source": [
    "dates = pd.date_range('2017-01-01', '2017-12-31')\n",
    "ts = pd.DataFrame(np.random.randn(len(dates), 3), index=dates, columns=['A', 'B', 'C'])\n",
    "ts = ts.cumsum()\n",
    "ts.plot(figsize=(8, 3));"
   ]
  },
  {
   "cell_type": "markdown",
   "metadata": {},
   "source": [
    "We can also plot these as separate line charts in subplots:"
   ]
  },
  {
   "cell_type": "code",
   "execution_count": 33,
   "metadata": {},
   "outputs": [
    {
     "data": {
      "image/png": "[encoded data removed]",
      "text/plain": [
       "<matplotlib.figure.Figure at 0x2a0b413cdd8>"
      ]
     },
     "metadata": {},
     "output_type": "display_data"
    }
   ],
   "source": [
    "ts.plot(figsize=(8, 6), subplots=True);"
   ]
  },
  {
   "cell_type": "markdown",
   "metadata": {},
   "source": [
    "Here's an example of creating a plot in the `seaborn` library, which can quickly generate graphs for many common statistical analyses.\n",
    "\n",
    "We'll use a famous data set, the [Fisher's iris data](https://en.wikipedia.org/wiki/Iris_flower_data_set), which is a set of measurements of the petals and sepals of three species of Iris flowers. This data is available as a built-in example that can be loaded from `seaborn`."
   ]
  },
  {
   "cell_type": "code",
   "execution_count": 34,
   "metadata": {},
   "outputs": [
    {
     "data": {
      "text/html": [
       "<div>\n",
       "<style scoped>\n",
       "    .dataframe tbody tr th:only-of-type {\n",
       "        vertical-align: middle;\n",
       "    }\n",
       "\n",
       "    .dataframe tbody tr th {\n",
       "        vertical-align: top;\n",
       "    }\n",
       "\n",
       "    .dataframe thead th {\n",
       "        text-align: right;\n",
       "    }\n",
       "</style>\n",
       "<table border=\"1\" class=\"dataframe\">\n",
       "  <thead>\n",
       "    <tr style=\"text-align: right;\">\n",
       "      <th></th>\n",
       "      <th>sepal_length</th>\n",
       "      <th>sepal_width</th>\n",
       "      <th>petal_length</th>\n",
       "      <th>petal_width</th>\n",
       "      <th>species</th>\n",
       "    </tr>\n",
       "  </thead>\n",
       "  <tbody>\n",
       "    <tr>\n",
       "      <th>0</th>\n",
       "      <td>5.1</td>\n",
       "      <td>3.5</td>\n",
       "      <td>1.4</td>\n",
       "      <td>0.2</td>\n",
       "      <td>setosa</td>\n",
       "    </tr>\n",
       "    <tr>\n",
       "      <th>1</th>\n",
       "      <td>4.9</td>\n",
       "      <td>3.0</td>\n",
       "      <td>1.4</td>\n",
       "      <td>0.2</td>\n",
       "      <td>setosa</td>\n",
       "    </tr>\n",
       "    <tr>\n",
       "      <th>2</th>\n",
       "      <td>4.7</td>\n",
       "      <td>3.2</td>\n",
       "      <td>1.3</td>\n",
       "      <td>0.2</td>\n",
       "      <td>setosa</td>\n",
       "    </tr>\n",
       "    <tr>\n",
       "      <th>3</th>\n",
       "      <td>4.6</td>\n",
       "      <td>3.1</td>\n",
       "      <td>1.5</td>\n",
       "      <td>0.2</td>\n",
       "      <td>setosa</td>\n",
       "    </tr>\n",
       "    <tr>\n",
       "      <th>4</th>\n",
       "      <td>5.0</td>\n",
       "      <td>3.6</td>\n",
       "      <td>1.4</td>\n",
       "      <td>0.2</td>\n",
       "      <td>setosa</td>\n",
       "    </tr>\n",
       "  </tbody>\n",
       "</table>\n",
       "</div>"
      ],
      "text/plain": [
       "   sepal_length  sepal_width  petal_length  petal_width species\n",
       "0           5.1          3.5           1.4          0.2  setosa\n",
       "1           4.9          3.0           1.4          0.2  setosa\n",
       "2           4.7          3.2           1.3          0.2  setosa\n",
       "3           4.6          3.1           1.5          0.2  setosa\n",
       "4           5.0          3.6           1.4          0.2  setosa"
      ]
     },
     "execution_count": 34,
     "metadata": {},
     "output_type": "execute_result"
    }
   ],
   "source": [
    "iris = sns.load_dataset('iris')\n",
    "iris.head()"
   ]
  },
  {
   "cell_type": "markdown",
   "metadata": {},
   "source": [
    "Let's look at distributions and relationships between measurements. With a single line of code, we can create a set of scatter plots and histograms for all four variables:"
   ]
  },
  {
   "cell_type": "code",
   "execution_count": 35,
   "metadata": {},
   "outputs": [
    {
     "data": {
      "image/png": "[encoded data removed]",
      "text/plain": [
       "<matplotlib.figure.Figure at 0x2a0b537d048>"
      ]
     },
     "metadata": {},
     "output_type": "display_data"
    }
   ],
   "source": [
    "sns.pairplot(iris, hue=\"species\", size=2);"
   ]
  },
  {
   "cell_type": "markdown",
   "metadata": {},
   "source": [
    "`seaborn` also provides a variety of pre-configured styles that can be applied to quickly change the look of a graph or a whole collection of graphs. Here's an example of applying a different style to the above graph:"
   ]
  },
  {
   "cell_type": "code",
   "execution_count": 36,
   "metadata": {},
   "outputs": [
    {
     "data": {
      "image/png": "[encoded data removed]",
      "text/plain": [
       "<matplotlib.figure.Figure at 0x2a0b6091630>"
      ]
     },
     "metadata": {},
     "output_type": "display_data"
    }
   ],
   "source": [
    "palette = sns.color_palette('deep')\n",
    "with sns.axes_style('darkgrid'):\n",
    "    sns.pairplot(iris, hue=\"species\", size=2, palette=palette);"
   ]
  },
  {
   "cell_type": "markdown",
   "metadata": {},
   "source": [
    "The example graphs in this section could easily be customized in many other ways. To get a sense of these customizations, and of the other kinds of graphs that can be created with these libraries, check out the galleries linked at the [start of this section](#viz).\n",
    "\n",
    "We've seen a very small sampling of Python's data visualization capabilities. There are many more libraries you can explore, which have been developed for a wide variety of purposes, such as maps and geographic data, 3-dimensional visualizations, interactive graphs for web pages, and more!\n",
    "\n",
    "[back to top](#top)"
   ]
  },
  {
   "cell_type": "markdown",
   "metadata": {},
   "source": [
    "<a id=\"jupyter\"></a>\n",
    "### 6. Jupyter notebook\n",
    "\n",
    "As I mentioned earlier, this guide was written in Jupyter notebook. It's a very handy tool in data analysis, especially when you're initially exploring your data, and when sharing your results with others. If you'd like to learn more about Jupyter notebook, you can check out [this tutorial](https://medium.com/codingthesmartway-com-blog/getting-started-with-jupyter-notebook-for-python-4e7082bd5d46).\n",
    "\n",
    "If you've already installed Anaconda, you can skip the installation steps listed in the tutorial. If you haven't installed Anaconda, you can still try out Jupyter notebook by following the \"Try it in your browser\" instructions in the tutorial. \n",
    "\n",
    "[back to top](#top)"
   ]
  },
  {
   "cell_type": "markdown",
   "metadata": {},
   "source": [
    "<a id=\"additional\"></a>\n",
    "### 7. Additional resources\n",
    "\n",
    "When you've become comfortable with the fundamentals of Python and want to start learning `numpy`, `matplotlib`, `pandas` and other data analysis libraries, there are many resources available to choose from. Of the sites I listed in [Section 1](#basics), DataCamp and DataQuest both offer online courses covering these topics in depth. You can also search for tutorials for each library to find many helpful resources.\n",
    "\n",
    "I like learning from books and when I was learning this material I found [this book](https://www.amazon.ca/Python-Data-Analysis-Wrangling-IPython/dp/1491957662/), by Wes McKinney, creator of `pandas`, very helpful. It has a [companion site](https://github.com/wesm/pydata-book) with data and Jupyter notebooks corresponding to all the examples in the book, so you can work through them yourself.\n",
    "\n",
    "Hopefully this guide will help you decide if Python is a good fit for the work you're doing, and if so, will help you navigate the world of Python data analysis and give you some ideas of your next steps and path forward. If you have any questions, comments, suggestions, or any other feedback, please send me an email&mdash;I'd love to hear from you. Good luck in your Python journey!\n",
    "\n",
    "[back to top](#top)"
   ]
  },
  {
   "cell_type": "code",
   "execution_count": null,
   "metadata": {},
   "outputs": [],
   "source": []
  }
 ],
 "metadata": {
  "kernelspec": {
   "display_name": "Python 3",
   "language": "python",
   "name": "python3"
  },
  "language_info": {
   "codemirror_mode": {
    "name": "ipython",
    "version": 3
   },
   "file_extension": ".py",
   "mimetype": "text/x-python",
   "name": "python",
   "nbconvert_exporter": "python",
   "pygments_lexer": "ipython3",
   "version": "3.6.4"
  }
 },
 "nbformat": 4,
 "nbformat_minor": 2
}
