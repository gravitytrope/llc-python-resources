{
 "cells": [
  {
   "cell_type": "markdown",
   "metadata": {},
   "source": [
    "# PyCharm + Anaconda\n",
    "\n",
    "<i>By Jennifer Walker\n",
    "\n",
    "Please email me --- jenfly (at) gmail (dot) com --- with any questions, comments, or suggestions. I'd love to hear from you!\n",
    "</i>"
   ]
  },
  {
   "cell_type": "markdown",
   "metadata": {},
   "source": [
    "Now that you've installed Anaconda, let's see how to set up PyCharm to use Python from Anaconda, instead of the default Python that it was using before. To do this, you need to change the project interpreter.\n",
    "\n",
    "screenshots, e.g. try to import pandas without changing interpreter, then after changing it. For changes to take effect, you'll need to exit PyCharm and restart it."
   ]
  },
  {
   "cell_type": "code",
   "execution_count": null,
   "metadata": {},
   "outputs": [],
   "source": []
  }
 ],
 "metadata": {
  "kernelspec": {
   "display_name": "Python [default]",
   "language": "python",
   "name": "python3"
  },
  "language_info": {
   "codemirror_mode": {
    "name": "ipython",
    "version": 3
   },
   "file_extension": ".py",
   "mimetype": "text/x-python",
   "name": "python",
   "nbconvert_exporter": "python",
   "pygments_lexer": "ipython3",
   "version": "3.6.4"
  }
 },
 "nbformat": 4,
 "nbformat_minor": 2
}
